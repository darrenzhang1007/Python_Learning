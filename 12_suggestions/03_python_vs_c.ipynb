{
 "cells": [
  {
   "cell_type": "markdown",
   "metadata": {},
   "source": [
    "## 理解 Python 与 C 语言的不同之处\n",
    "\n",
    "Python 底层是用 C 语言实现的，但切忌用 C 语言的思维和风格来编写 Python 代码。\n",
    "\n",
    "1. “缩进”与“{}”\n",
    "\n",
    "避免缩进带来的困扰的方法之一就是养成良好的习惯，统一缩进风格，不要混用 Tab 键和空格。\n",
    "\n",
    "2. `'` 与`\"`\n",
    "\n",
    "C 语言中单引号代表一个字符，它实际对应于编译器所采用的字符集中的一个整数值。而双引号则表示字符串，默认以 '\\0' 结尾。\n",
    "\n",
    "3. 三元操作符 `\"?:\"`\n",
    "`C?X:Y` 在 Python 中等价的形式为 `X if C else Y`\n",
    "\n",
    "4. `switch...case` statement"
   ]
  },
  {
   "cell_type": "code",
   "execution_count": null,
   "metadata": {},
   "outputs": [],
   "source": [
    "# Python 中可以使用多种方式来实现 switch...case 比如下面这一种：\n",
    "switch(n) {\n",
    "  case 0:\n",
    "    printf(\"0\");\n",
    "    break;\n",
    "  case 1:\n",
    "    printf(\"1\");\n",
    "    break;\n",
    "  case 2:\n",
    "    printf(\"2\");\n",
    "    break;\n",
    "  default:\n",
    "    printf(\"????\");\n",
    "    break;\n",
    "}"
   ]
  },
  {
   "cell_type": "code",
   "execution_count": 1,
   "metadata": {},
   "outputs": [],
   "source": [
    "def f(x):\n",
    "    return {\n",
    "      0: \"0\",\n",
    "      1: \"1\",\n",
    "      2: \"2\"\n",
    "    }.get(n, \"???\")"
   ]
  },
  {
   "cell_type": "code",
   "execution_count": null,
   "metadata": {},
   "outputs": [],
   "source": []
  }
 ],
 "metadata": {
  "interpreter": {
   "hash": "6197dd7251d6ffd08ad898aa95a52abbeb77d69fb7b7878fb161428e68f3f705"
  },
  "kernelspec": {
   "display_name": "Python 3.8.0 64-bit ('workspace': conda)",
   "language": "python",
   "name": "python3"
  },
  "language_info": {
   "codemirror_mode": {
    "name": "ipython",
    "version": 3
   },
   "file_extension": ".py",
   "mimetype": "text/x-python",
   "name": "python",
   "nbconvert_exporter": "python",
   "pygments_lexer": "ipython3",
   "version": "3.8.0"
  },
  "orig_nbformat": 4
 },
 "nbformat": 4,
 "nbformat_minor": 2
}

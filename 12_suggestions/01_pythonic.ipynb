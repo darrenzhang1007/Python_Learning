{
 "cells": [
  {
   "cell_type": "markdown",
   "metadata": {},
   "source": [
    "《The Zen of Python》（Python 之禅）对于Pythonic的解释：\n",
    "1. 美胜丑，显胜隐，简胜杂，杂胜乱，平胜陡，疏胜密。\n",
    "2. 找到简单问题的一个方法，最好是唯一的方法（正确的解决之道）\n",
    "3. 难以解释的实现，源自不好的注意；如果有非常棒的注意，它的实现肯定易于理解"
   ]
  },
  {
   "cell_type": "markdown",
   "metadata": {},
   "source": [
    "## Pythonic定义\n",
    "充分体现Python语言自身特色的代码风格，比如:\n",
    "1. 两个变量交换，可以直接使用python的`pachaging/unpackaging` 机制，代码只需一行，否则需要一个中间变量，三行以上代码才可完成。"
   ]
  },
  {
   "cell_type": "code",
   "execution_count": 3,
   "metadata": {},
   "outputs": [
    {
     "name": "stdout",
     "output_type": "stream",
     "text": [
      "2 1\n"
     ]
    }
   ],
   "source": [
    "a, b = 1, 2\n",
    "a, b = b, a\n",
    "print(a, b)"
   ]
  },
  {
   "cell_type": "markdown",
   "metadata": {},
   "source": [
    "2. 遍历一个容器\n",
    "```python\n",
    "for i in a_list:\n",
    "    #TODO\n",
    "    pass\n",
    "```"
   ]
  },
  {
   "cell_type": "markdown",
   "metadata": {},
   "source": [
    "3. 需要安全地关闭文件描述符，可以使用`with` 语句\n",
    "```python\n",
    "with open(file_path, 'r') as f:\n",
    "    # TODO\n",
    "    pass\n",
    "```"
   ]
  },
  {
   "cell_type": "markdown",
   "metadata": {},
   "source": [
    "4. 充分利用python语法，不应使用过多的技巧"
   ]
  },
  {
   "cell_type": "code",
   "execution_count": 5,
   "metadata": {},
   "outputs": [],
   "source": [
    "a = [1, 2, 3, 4]\n",
    "c = 'abcdef'"
   ]
  },
  {
   "cell_type": "code",
   "execution_count": 8,
   "metadata": {},
   "outputs": [
    {
     "name": "stdout",
     "output_type": "stream",
     "text": [
      "[4, 3, 2, 1]\n",
      "fedcba\n"
     ]
    }
   ],
   "source": [
    "# 利用python的Slice语法进行内容反转\n",
    "print(a[::-1])\n",
    "print(c[::-1])"
   ]
  },
  {
   "cell_type": "code",
   "execution_count": 10,
   "metadata": {},
   "outputs": [
    {
     "name": "stdout",
     "output_type": "stream",
     "text": [
      "<list_reverseiterator object at 0x7ff3cd9b61f0>\n",
      "[4, 3, 2, 1]\n",
      "['f', 'e', 'd', 'c', 'b', 'a']\n"
     ]
    }
   ],
   "source": [
    "# Pythonic：利用python库里的`reversed()`函数\n",
    "print(reversed(a))\n",
    "print(list(reversed(a)))\n",
    "print(list(reversed(c)))"
   ]
  },
  {
   "cell_type": "markdown",
   "metadata": {},
   "source": [
    "## 标准库\n",
    "写 Pythonic 程序需要对标准库有充分的理解，特别是**内置函数**和**内置数据类型**。比如，对于字符串格式化，推荐这样写："
   ]
  },
  {
   "cell_type": "code",
   "execution_count": 13,
   "metadata": {},
   "outputs": [
    {
     "name": "stdout",
     "output_type": "stream",
     "text": [
      "Hello world from Python.\n"
     ]
    }
   ],
   "source": [
    "# 字符串格式化\n",
    "print('{greet} from {language}.'.format(greet = \"Hello world\", language = 'Python'))"
   ]
  },
  {
   "cell_type": "markdown",
   "metadata": {},
   "source": [
    "## python库或框架\n",
    "不要写累赘或者不推荐的代码，不要重复造轮子，Flask框架就比较Pythonic"
   ]
  },
  {
   "cell_type": "code",
   "execution_count": 16,
   "metadata": {},
   "outputs": [
    {
     "name": "stdout",
     "output_type": "stream",
     "text": [
      "Looking in indexes: http://pypi.douban.com/simple/\n",
      "Collecting flask\n",
      "  Downloading http://pypi.doubanio.com/packages/8f/b6/b4fdcb6d01ee20f9cfe81dcf9d3cd6c2f874b996f186f1c0b898c4a59c04/Flask-2.0.2-py3-none-any.whl (95 kB)\n",
      "     |████████████████████████████████| 95 kB 469 kB/s             \n",
      "\u001b[?25hRequirement already satisfied: Werkzeug>=2.0 in /home/admin/anaconda3/envs/workspace/lib/python3.8/site-packages (from flask) (2.0.1)\n",
      "Collecting click>=7.1.2\n",
      "  Downloading http://pypi.doubanio.com/packages/48/58/c8aa6a8e62cc75f39fee1092c45d6b6ba684122697d7ce7d53f64f98a129/click-8.0.3-py3-none-any.whl (97 kB)\n",
      "     |████████████████████████████████| 97 kB 8.9 MB/s            \n",
      "\u001b[?25hRequirement already satisfied: Jinja2>=3.0 in /home/admin/anaconda3/envs/workspace/lib/python3.8/site-packages (from flask) (3.0.1)\n",
      "Collecting itsdangerous>=2.0\n",
      "  Downloading http://pypi.doubanio.com/packages/9c/96/26f935afba9cd6140216da5add223a0c465b99d0f112b68a4ca426441019/itsdangerous-2.0.1-py3-none-any.whl (18 kB)\n",
      "Requirement already satisfied: MarkupSafe>=2.0 in /home/admin/anaconda3/envs/workspace/lib/python3.8/site-packages (from Jinja2>=3.0->flask) (2.0.1)\n",
      "Installing collected packages: itsdangerous, click, flask\n",
      "Successfully installed click-8.0.3 flask-2.0.2 itsdangerous-2.0.1\n",
      " * Serving Flask app '__main__' (lazy loading)\n",
      " * Environment: production\n",
      "\u001b[31m   WARNING: This is a development server. Do not use it in a production deployment.\u001b[0m\n",
      "\u001b[2m   Use a production WSGI server instead.\u001b[0m\n",
      " * Debug mode: off\n"
     ]
    },
    {
     "name": "stderr",
     "output_type": "stream",
     "text": [
      " * Running on http://127.0.0.1:5000/ (Press CTRL+C to quit)\n",
      "127.0.0.1 - - [17/Nov/2021 11:30:44] \"GET / HTTP/1.1\" 200 -\n",
      "127.0.0.1 - - [17/Nov/2021 11:30:44] \"GET / HTTP/1.1\" 200 -\n",
      "127.0.0.1 - - [17/Nov/2021 11:30:44] \"\u001b[33mGET /favicon.ico HTTP/1.1\u001b[0m\" 404 -\n",
      "127.0.0.1 - - [17/Nov/2021 11:30:44] \"\u001b[33mGET /favicon.ico HTTP/1.1\u001b[0m\" 404 -\n"
     ]
    }
   ],
   "source": [
    "!pip install flask\n",
    "from flask import Flask\n",
    "app = Flask(__name__)\n",
    "@app.route('/')\n",
    "def hello():\n",
    "    return \"Hello world!\"\n",
    "\n",
    "if __name__ == '__main__':\n",
    "    app.run()"
   ]
  },
  {
   "cell_type": "markdown",
   "metadata": {},
   "source": [
    "Python 的包和模块结构日益规范化。\n",
    "\n",
    "现在的库或框架跟随了一下潮流：\n",
    "1. 包和模块的命名采用小写、单数形式，而且短小\n",
    "2. 包通常仅作为命名空间，如只包含空的 `__init__.py` 文件。"
   ]
  },
  {
   "cell_type": "markdown",
   "metadata": {},
   "source": []
  }
 ],
 "metadata": {
  "kernelspec": {
   "display_name": "Python 3",
   "language": "python",
   "name": "python3"
  },
  "language_info": {
   "codemirror_mode": {
    "name": "ipython",
    "version": 3
   },
   "file_extension": ".py",
   "mimetype": "text/x-python",
   "name": "python",
   "nbconvert_exporter": "python",
   "pygments_lexer": "ipython3",
   "version": "3.8.0"
  }
 },
 "nbformat": 4,
 "nbformat_minor": 4
}

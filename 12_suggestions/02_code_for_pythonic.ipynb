{
 "cells": [
  {
   "cell_type": "markdown",
   "metadata": {},
   "source": [
    "要**避免不合适的变量命名**\n",
    "* 避免只用**大小写**来区分不同的对象\n",
    "* 避免使用容易引起混淆的名称，包括：\n",
    "    * 重复使用已经存在于上下文中的变量名来表示不同的类型\n",
    "    * 误用了内建名称来表示其他含义的名称而使之在当前命名空间被屏蔽\n",
    "    * 没有构建新的数据类型的情况下使用类似于 element、list、dict 等作为变量名\n",
    "    * 使用 o（字母 O 小写的形式，容易与数值 0 混淆）、1（字母 L 小写的形式，容易与数字 1 混淆）等作为变量名\n",
    "    * 不要害怕过长的变量名，比如 `person_info` 比 `pi` 的可读性要强得多。"
   ]
  },
  {
   "cell_type": "code",
   "execution_count": null,
   "metadata": {},
   "outputs": [],
   "source": [
    "# 示例一：\n",
    "def funA(list, num):\n",
    "    for element in list:\n",
    "        if num == element:\n",
    "            return True\n",
    "        else:\n",
    "            pass\n",
    "\n",
    "# 示例二：\n",
    "def find_num(searchList, num):\n",
    "    for listValue in searchList:\n",
    "        if num == listValue:\n",
    "            return True\n",
    "        else:\n",
    "            pass"
   ]
  },
  {
   "cell_type": "markdown",
   "metadata": {},
   "source": [
    "风格检查程序 PEP8。\n",
    "\n",
    "其实一开始 PEP 8 是一篇关于 Python 编码风格的指南，它提出了保持代码一致性的细节要求。它至少包括了对代码布局、注释、命名规范等方面的要求，在代码中遵循这些原则，有利于编写 Pythonic 的代码。\n",
    "\n",
    "应用程序 PEP 8 可以用来进行检测，它是使用 Python 开发的，安装的方法：`pip install -U pep8` 然后即可简单地用它检测一下自己的代码。"
   ]
  },
  {
   "cell_type": "code",
   "execution_count": null,
   "metadata": {},
   "outputs": [],
   "source": [
    "foo = \"apple\"\n",
    "\n",
    "def do_blah_thing():\n",
    "    pass\n",
    "def do_one():\n",
    "    pass\n",
    "def do_two():\n",
    "    pass\n",
    "def do_three():\n",
    "    pass"
   ]
  },
  {
   "cell_type": "code",
   "execution_count": null,
   "metadata": {},
   "outputs": [],
   "source": [
    "\n",
    "if foo == \"blah\": do_blah_thing()\n",
    "do_one(); do_two(); do_three()"
   ]
  },
  {
   "cell_type": "code",
   "execution_count": null,
   "metadata": {},
   "outputs": [],
   "source": [
    "if foo == \"blah\":\n",
    "    do_blah_thing()\n",
    "do_one()\n",
    "do_two()\n",
    "do_three()"
   ]
  }
 ],
 "metadata": {
  "interpreter": {
   "hash": "31f2aee4e71d21fbe5cf8b01ff0e069b9275f58929596ceb00d14d90e3e16cd6"
  },
  "kernelspec": {
   "display_name": "Python 3.5.2 64-bit",
   "language": "python",
   "name": "python3"
  },
  "language_info": {
   "name": "python",
   "version": "3.8.0"
  },
  "orig_nbformat": 4
 },
 "nbformat": 4,
 "nbformat_minor": 2
}

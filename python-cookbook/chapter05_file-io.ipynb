{
 "cells": [
  {
   "cell_type": "markdown",
   "metadata": {},
   "source": [
    "# 第五章：文件与IO\n",
    "\n",
    "所有程序都要处理输入和输出。\n",
    "这一章将涵盖处理不同类型的文件，包括文本和二进制文件，文件编码和其他相关的内容。对文件名和目录的操作也会涉及到。"
   ]
  },
  {
   "cell_type": "markdown",
   "metadata": {},
   "source": [
    "## 5.1 读写文本数据\n",
    "\n",
    "* 问题\n",
    "\n",
    "你需要读写各种不同编码的文本数据，比如ASCII，UTF-8或UTF-16编码等。\n",
    "\n",
    "* 解决方案\n",
    "\n",
    "使用带有 `rt` 模式的 `open()` 函数读取文本文件。"
   ]
  },
  {
   "cell_type": "code",
   "execution_count": 1,
   "metadata": {},
   "outputs": [],
   "source": [
    "# Read the entire file as s single string\n",
    "with open('./passwd.txt', 'rt') as f:\n",
    "    data = f.read()\n",
    "\n",
    "# Iterate over the lines of the file\n",
    "with open('./passwd.txt', 'rt') as f:\n",
    "    for line in f:\n",
    "        # process line\n",
    "        pass"
   ]
  },
  {
   "cell_type": "markdown",
   "metadata": {},
   "source": [
    "类似的，为了写入一个文本文件，使用带有 `wt` 模式的 `open()` 函数， 如果之前文件内容存在则清除并覆盖掉。如下所示：\n",
    "```python\n",
    "# Write chunks of text data\n",
    "with open('somefile.txt', 'wt') as f:\n",
    "    f.write(text1)\n",
    "    f.write(text2)\n",
    "\n",
    "# Redirected print statement\n",
    "with open('somefile.txt', 'wt') as f:\n",
    "    print(line1, file=f)\n",
    "    print(line2, file=f)\n",
    "```\n",
    "\n",
    "如果是在已存在文件中添加内容，使用模式为 `at` 的 `open()` 函数。\n",
    "\n",
    "文件的读写操作默认使用系统编码，可以通过调用 `sys.getdefaultencoding()` 来得到。\n",
    "\n",
    "在大多数机器上面都是`utf-8`编码。如果你已经知道你要读写的文本是其他编码方式，那么可以通过传递一个可选的 `encoding` 参数给 `open()` 函数。\n",
    "```python\n",
    "with open('somefile.txt', 'rt', encoding='latin-1') as f:\n",
    "```"
   ]
  },
  {
   "cell_type": "markdown",
   "metadata": {},
   "source": [
    "Python支持非常多的文本编码。几个常见的编码是ascii, latin-1, utf-8和utf-16。\n",
    "\n",
    "在web应用程序中通常都使用的是UTF-8。\n",
    "\n",
    "ascii对应从U+0000到U+007F范围内的7位字符。\n",
    "latin-1是字节0-255到U+0000至U+00FF范围内Unicode字符的直接映射。\n",
    "\n",
    "当读取一个未知编码的文本时使用latin-1编码永远不会产生解码错误。\n",
    "\n",
    "使用latin-1编码读取一个文件的时候也许不能产生完全正确的文本解码数据，但是它也能从中提取出足够多的有用数据。同时，如果你之后将数据回写回去，原先的数据还是会保留的。"
   ]
  },
  {
   "cell_type": "markdown",
   "metadata": {},
   "source": [
    "* 讨论\n",
    "\n",
    "读写文本文件一般来讲是比较简单的。但是也几点是需要注意的。\n",
    "* 首先，在例子程序中的`with`语句给被使用到的文件创建了一个上下文环境，`with` 控制块结束时，文件会自动关闭。\n",
    "\n",
    "你也可以不使用 `with` 语句，但是这时候你就必须记得手动关闭文件：\n",
    "```python\n",
    "# 手动关闭文件\n",
    "f = open('somefile.txt', 'rt')\n",
    "data = f.read()\n",
    "f.close()\n",
    "```"
   ]
  },
  {
   "cell_type": "markdown",
   "metadata": {},
   "source": [
    "另外一个问题是关于换行符的识别问题，在Unix和Windows中是不一样的(分别是 \\n 和 \\r\\n )。\n",
    "\n",
    "默认情况下，Python会以统一模式处理换行符。这种模式下，在读取文本的时候，Python可以识别所有的普通换行符并将其转换为单个 \\n 字符。\n",
    "\n",
    "类似的，在输出时会将换行符 \\n 转换为系统默认的换行符。 如果你不希望这种默认的处理方式，可以给 open() 函数传入参数 newline='' ，就像下面这样：\n",
    "\n",
    "```python\n",
    "# Read with disabled newline translation\n",
    "with open('somefile.txt', 'rt', newline='') as f:\n",
    "    pass\n",
    "```"
   ]
  },
  {
   "cell_type": "markdown",
   "metadata": {},
   "source": [
    "为了说明两者之间的差异，下面我在Unix机器上面读取一个Windows上面的文本文件，里面的内容是 `hello world!\\r\\n`：\n",
    "```python\n",
    "# Newline translation enabled (the default)\n",
    "f = open('hello.txt', 'rt')\n",
    "f.read()\n",
    "# 'hello world!\\n'\n",
    "\n",
    "# Newline translation disabled\n",
    "g = open('hello.txt', 'rt', newline='')\n",
    "g.read()\n",
    "# 'hello world!\\r\\n'\n",
    "```"
   ]
  },
  {
   "cell_type": "markdown",
   "metadata": {},
   "source": [
    "最后一个问题就是文本文件中可能出现的编码错误。 但你读取或者写入一个文本文件时，你可能会遇到一个编码或者解码错误。比如：\n",
    "```python\n",
    ">>> f = open('sample.txt', 'rt', encoding='ascii')\n",
    ">>> f.read()\n",
    "Traceback (most recent call last):\n",
    "    File \"<stdin>\", line 1, in <module>\n",
    "    File \"/usr/local/lib/python3.3/encodings/ascii.py\", line 26, in decode\n",
    "        return codecs.ascii_decode(input, self.errors)[0]\n",
    "UnicodeDecodeError: 'ascii' codec can't decode byte 0xc3 in position\n",
    "12: ordinal not in range(128)\n",
    ">>>\n",
    "```"
   ]
  },
  {
   "cell_type": "markdown",
   "metadata": {},
   "source": [
    "如果出现这个错误，通常表示你读取文本时指定的编码不正确。\n",
    "\n",
    "最好仔细阅读说明并确认你的文件编码是正确的(比如使用UTF-8而不是Latin-1编码或其他)。\n",
    "\n",
    "如果编码错误还是存在的话，你可以给 `open()` 函数传递一个可选的 `errors` 参数来处理这些错误。 下面是一些处理常见错误的方法：\n",
    "```python\n",
    ">>> # Replace bad chars with Unicode U+fffd replacement char\n",
    ">>> f = open('sample.txt', 'rt', encoding='ascii', errors='replace')\n",
    ">>> f.read()\n",
    "'Spicy Jalape?o!'\n",
    ">>> # Ignore bad chars entirely\n",
    ">>> g = open('sample.txt', 'rt', encoding='ascii', errors='ignore')\n",
    ">>> g.read()\n",
    "'Spicy Jalapeo!'\n",
    ">>>\n",
    "```"
   ]
  },
  {
   "cell_type": "markdown",
   "metadata": {},
   "source": [
    "如果你经常使用 `errors` 参数来处理编码错误，可能会让你的代码变得很混乱。\n",
    "\n",
    "对于文本处理的首要原则是**确保你总是使用的是正确编码**。当模棱两可的时候，就使用默认的设置(通常都是UTF-8)。"
   ]
  },
  {
   "cell_type": "markdown",
   "metadata": {},
   "source": [
    "## 5.2 打印输出至文件中\n",
    "\n",
    "* 问题\n",
    "\n",
    "你想将 `print()` 函数的输出重定向到一个文件中去。\n",
    "\n",
    "* 解决方案\n",
    "\n",
    "在 `print()` 函数中指定 `file` 关键字参数，像下面这样：\n",
    "```python\n",
    "with open('d:/work/test.txt', 'wt') as f:\n",
    "    print('Hello World!', file=f)\n",
    "```\n",
    "\n",
    "* 讨论\n",
    "文件必须是以文本模式打开。如果文件是二进制模式的话，打印就会出错。"
   ]
  },
  {
   "cell_type": "code",
   "execution_count": 2,
   "metadata": {},
   "outputs": [],
   "source": [
    "with open('./passwd.txt', 'wt') as f:\n",
    "    print(\"Hello World!\", file=f)  # 将\"Hello World!\" 保存在passed.txt中"
   ]
  },
  {
   "cell_type": "markdown",
   "metadata": {},
   "source": [
    "## 5.3 使用其他分隔符或行终止符打印\n",
    "\n",
    "* 问题\n",
    "\n",
    "你想使用 `print()` 函数输出数据，但是想改变默认的分隔符或者行尾符。\n",
    "\n",
    "* 解决方案\n",
    "\n",
    "可以使用在 `print()` 函数中使用 `sep` 和 `end` 关键字参数，以你想要的方式输出。\n"
   ]
  },
  {
   "cell_type": "code",
   "execution_count": 3,
   "metadata": {},
   "outputs": [
    {
     "name": "stdout",
     "output_type": "stream",
     "text": [
      "ACME 50 91.5\n"
     ]
    }
   ],
   "source": [
    "print(\"ACME\", 50, 91.5)"
   ]
  },
  {
   "cell_type": "code",
   "execution_count": 4,
   "metadata": {},
   "outputs": [
    {
     "name": "stdout",
     "output_type": "stream",
     "text": [
      "ACME,50,91.5\n"
     ]
    }
   ],
   "source": [
    "print(\"ACME\", 50, 91.5, sep=',')"
   ]
  },
  {
   "cell_type": "code",
   "execution_count": 5,
   "metadata": {},
   "outputs": [
    {
     "name": "stdout",
     "output_type": "stream",
     "text": [
      "ACME,50,91.5!!\n"
     ]
    }
   ],
   "source": [
    "print(\"ACME\", 50, 91.5, sep=',', end='!!\\n')"
   ]
  },
  {
   "cell_type": "markdown",
   "metadata": {},
   "source": [
    "使用 `end`` 参数也可以在输出中禁止换行。"
   ]
  },
  {
   "cell_type": "code",
   "execution_count": 6,
   "metadata": {},
   "outputs": [
    {
     "name": "stdout",
     "output_type": "stream",
     "text": [
      "0\n",
      "1\n",
      "2\n",
      "3\n",
      "4\n"
     ]
    }
   ],
   "source": [
    "for i in range(5):\n",
    "    print(i)"
   ]
  },
  {
   "cell_type": "code",
   "execution_count": 8,
   "metadata": {},
   "outputs": [
    {
     "name": "stdout",
     "output_type": "stream",
     "text": [
      "01234"
     ]
    }
   ],
   "source": [
    "for i in range(5):\n",
    "    print(i, end='')"
   ]
  },
  {
   "cell_type": "markdown",
   "metadata": {},
   "source": [
    "* 讨论\n",
    "\n",
    "当你想使用**非空格分隔符**来输出数据的时候，给 `print()` 函数传递一个 `sep` 参数是最简单的方案。\n",
    "\n",
    "有时候你会看到一些程序员会使用 `str.join()` 来完成同样的事情。"
   ]
  },
  {
   "cell_type": "code",
   "execution_count": 9,
   "metadata": {},
   "outputs": [
    {
     "name": "stdout",
     "output_type": "stream",
     "text": [
      "ACME,50,91.5\n"
     ]
    }
   ],
   "source": [
    "print(','.join(('ACME','50','91.5')))"
   ]
  },
  {
   "cell_type": "markdown",
   "metadata": {},
   "source": [
    "`str.join()` 的问题在于它仅仅适用于字符串。这意味着你通常需要执行另外一些转换才能让它正常工作。比如：\n",
    "```python\n",
    "# 50：int; 91.5: float is not str. must convert it to str type\n",
    ">>> row = ('ACME', 50, 91.5)\n",
    ">>> print(','.join(row))\n",
    "Traceback (most recent call last):\n",
    "    File \"<stdin>\", line 1, in <module>\n",
    "TypeError: sequence item 1: expected str instance, int found\n",
    ">>> print(','.join(str(x) for x in row))\n",
    "ACME,50,91.5\n",
    ">>>\n",
    "```"
   ]
  },
  {
   "cell_type": "code",
   "execution_count": 10,
   "metadata": {},
   "outputs": [
    {
     "ename": "TypeError",
     "evalue": "sequence item 1: expected str instance, int found",
     "output_type": "error",
     "traceback": [
      "\u001b[0;31m---------------------------------------------------------------------------\u001b[0m",
      "\u001b[0;31mTypeError\u001b[0m                                 Traceback (most recent call last)",
      "\u001b[0;32m/tmp/ipykernel_17258/1813717094.py\u001b[0m in \u001b[0;36m<module>\u001b[0;34m\u001b[0m\n\u001b[1;32m      1\u001b[0m \u001b[0mrow\u001b[0m \u001b[0;34m=\u001b[0m \u001b[0;34m(\u001b[0m\u001b[0;34m'ACME'\u001b[0m\u001b[0;34m,\u001b[0m \u001b[0;36m50\u001b[0m\u001b[0;34m,\u001b[0m \u001b[0;36m91.5\u001b[0m\u001b[0;34m)\u001b[0m\u001b[0;34m\u001b[0m\u001b[0;34m\u001b[0m\u001b[0m\n\u001b[0;32m----> 2\u001b[0;31m \u001b[0mprint\u001b[0m\u001b[0;34m(\u001b[0m\u001b[0;34m','\u001b[0m\u001b[0;34m.\u001b[0m\u001b[0mjoin\u001b[0m\u001b[0;34m(\u001b[0m\u001b[0mrow\u001b[0m\u001b[0;34m)\u001b[0m\u001b[0;34m)\u001b[0m\u001b[0;34m\u001b[0m\u001b[0;34m\u001b[0m\u001b[0m\n\u001b[0m",
      "\u001b[0;31mTypeError\u001b[0m: sequence item 1: expected str instance, int found"
     ]
    }
   ],
   "source": [
    "row = ('ACME', 50, 91.5)\n",
    "print(','.join(row))"
   ]
  },
  {
   "cell_type": "code",
   "execution_count": 11,
   "metadata": {},
   "outputs": [
    {
     "name": "stdout",
     "output_type": "stream",
     "text": [
      "ACME,50,91.5\n"
     ]
    }
   ],
   "source": [
    "print(','.join(str(x) for x in row))"
   ]
  },
  {
   "cell_type": "code",
   "execution_count": 12,
   "metadata": {},
   "outputs": [
    {
     "name": "stdout",
     "output_type": "stream",
     "text": [
      "ACME,50,91.5\n"
     ]
    }
   ],
   "source": [
    "# 你当然可以不用那么麻烦，只需要像下面这样写：\n",
    "print(*row, sep=',')"
   ]
  },
  {
   "cell_type": "markdown",
   "metadata": {},
   "source": [
    "## 5.4 读写字节数据\n",
    "\n",
    "* 问题\n",
    "你想读写二进制文件，比如图片，声音文件等等。\n",
    "\n",
    "* 解决方案\n",
    "\n",
    "使用模式为 `rb` 或 `wb` 的 `open()` 函数来读取或写入二进制数据。比如：\n",
    "```python\n",
    "# Read the entire file as a single byte string\n",
    "with open('somefile.bin', 'rb') as f:\n",
    "    data = f.read()\n",
    "\n",
    "# Write binary data to a file\n",
    "with open('somefile.bin', 'wb') as f:\n",
    "    f.write(b'Hello World')\n",
    "```"
   ]
  },
  {
   "cell_type": "markdown",
   "metadata": {},
   "source": [
    "在读取二进制数据时，需要指明的是所有返回的数据都是字节字符串格式的，而不是文本字符串。\n",
    "\n",
    "类似的，在写入的时候，必须保证参数是以字节形式对外暴露数据的对象(比如字节字符串，字节数组对象等)。"
   ]
  },
  {
   "cell_type": "markdown",
   "metadata": {},
   "source": [
    "* 讨论\n",
    "\n",
    "在读取二进制数据的时候，字节字符串和文本字符串的语义差异可能会导致一个潜在的陷阱。\n",
    "\n",
    "特别需要注意的是，索引和迭代返回的是字节的值而不是字节字符串。"
   ]
  },
  {
   "cell_type": "code",
   "execution_count": 13,
   "metadata": {},
   "outputs": [
    {
     "data": {
      "text/plain": [
       "'H'"
      ]
     },
     "execution_count": 13,
     "metadata": {},
     "output_type": "execute_result"
    }
   ],
   "source": [
    "# Text string\n",
    "t = 'Hello World'\n",
    "t[0]"
   ]
  },
  {
   "cell_type": "code",
   "execution_count": 14,
   "metadata": {},
   "outputs": [
    {
     "name": "stdout",
     "output_type": "stream",
     "text": [
      "H\n",
      "e\n",
      "l\n",
      "l\n",
      "o\n",
      " \n",
      "W\n",
      "o\n",
      "r\n",
      "l\n",
      "d\n"
     ]
    }
   ],
   "source": [
    "for c in t:\n",
    "    print(c)"
   ]
  },
  {
   "cell_type": "code",
   "execution_count": 15,
   "metadata": {},
   "outputs": [
    {
     "data": {
      "text/plain": [
       "72"
      ]
     },
     "execution_count": 15,
     "metadata": {},
     "output_type": "execute_result"
    }
   ],
   "source": [
    "# Byte string\n",
    "b = b'Hello World'\n",
    "b[0]"
   ]
  },
  {
   "cell_type": "code",
   "execution_count": 16,
   "metadata": {},
   "outputs": [
    {
     "name": "stdout",
     "output_type": "stream",
     "text": [
      "72\n",
      "101\n",
      "108\n",
      "108\n",
      "111\n",
      "32\n",
      "87\n",
      "111\n",
      "114\n",
      "108\n",
      "100\n"
     ]
    }
   ],
   "source": [
    "for c in b:\n",
    "    print(c)"
   ]
  },
  {
   "cell_type": "markdown",
   "metadata": {},
   "source": [
    "如果你想从二进制模式的文件中读取或写入文本数据，必须确保要进行解码和编码操作。比如：\n",
    "\n",
    "```python\n",
    "with open('somefile.bin', 'rb') as f:\n",
    "    data = f.read(16)\n",
    "    text = data.decode('utf-8')\n",
    "\n",
    "with open('somefile.bin', 'wb') as f:\n",
    "    text = 'Hello World'\n",
    "    f.write(text.encode('utf-8'))\n",
    "```"
   ]
  },
  {
   "cell_type": "markdown",
   "metadata": {},
   "source": [
    "二进制I/O还有一个鲜为人知的特性就是数组和C结构体类型能直接被写入，而不需要中间转换为自己对象。比如："
   ]
  },
  {
   "cell_type": "code",
   "execution_count": 18,
   "metadata": {},
   "outputs": [],
   "source": [
    "import array\n",
    "\n",
    "nums = array.array('i', [1, 2, 3, 4])\n",
    "\n",
    "with open('data.bin', 'wb') as f:\n",
    "    f.write(nums)"
   ]
  },
  {
   "cell_type": "markdown",
   "metadata": {},
   "source": [
    "这个适用于任何实现了被称之为”缓冲接口”的对象，这种对象会直接暴露其底层的内存缓冲区给能处理它的操作。 二进制数据的写入就是这类操作之一。\n",
    "\n",
    "很多对象还允许通过使用文件对象的 `readinto()` 方法直接读取二进制数据到其底层的内存中去。比如："
   ]
  },
  {
   "cell_type": "code",
   "execution_count": 19,
   "metadata": {},
   "outputs": [],
   "source": [
    "import array\n",
    "a = array.array('i', [0, 0, 0, 0, 0, 0, 0, 0])\n",
    "with open('data.bin', 'rb') as f:\n",
    "    f.readinto(a)"
   ]
  },
  {
   "cell_type": "code",
   "execution_count": 20,
   "metadata": {},
   "outputs": [
    {
     "data": {
      "text/plain": [
       "array('i', [1, 2, 3, 4, 0, 0, 0, 0])"
      ]
     },
     "execution_count": 20,
     "metadata": {},
     "output_type": "execute_result"
    }
   ],
   "source": [
    "a"
   ]
  },
  {
   "cell_type": "markdown",
   "metadata": {},
   "source": [
    "但是使用这种技术的时候需要格外小心，因为它通常**具有平台相关性**，并且可能会**依赖字长和字节顺序（高位优先和低位优先）。**\n",
    "\n",
    "可以查看5.9小节中另外一个读取二进制数据到可修改缓冲区的例子。"
   ]
  },
  {
   "cell_type": "markdown",
   "metadata": {},
   "source": [
    "## 5.5 文件不存在才能写入\n",
    "\n",
    "* 问题\n",
    "\n",
    "你想像一个文件中写入数据，但是前提必须是这个文件在文件系统上不存在。 也就是不允许覆盖已存在的文件内容。\n",
    "\n",
    "* 解决方案\n",
    "\n",
    "可以在 `open()` 函数中使用 x 模式来代替 w 模式的方法来解决这个问题。比如："
   ]
  },
  {
   "cell_type": "code",
   "execution_count": 1,
   "metadata": {},
   "outputs": [
    {
     "ename": "FileExistsError",
     "evalue": "[Errno 17] File exists: 'somefile'",
     "output_type": "error",
     "traceback": [
      "\u001b[0;31m---------------------------------------------------------------------------\u001b[0m",
      "\u001b[0;31mFileExistsError\u001b[0m                           Traceback (most recent call last)",
      "\u001b[0;32m/tmp/ipykernel_6436/1226258701.py\u001b[0m in \u001b[0;36m<module>\u001b[0;34m\u001b[0m\n\u001b[1;32m      2\u001b[0m     \u001b[0mf\u001b[0m\u001b[0;34m.\u001b[0m\u001b[0mwrite\u001b[0m\u001b[0;34m(\u001b[0m\u001b[0;34m'Hello\\n'\u001b[0m\u001b[0;34m)\u001b[0m\u001b[0;34m\u001b[0m\u001b[0;34m\u001b[0m\u001b[0m\n\u001b[1;32m      3\u001b[0m \u001b[0;34m\u001b[0m\u001b[0m\n\u001b[0;32m----> 4\u001b[0;31m \u001b[0;32mwith\u001b[0m \u001b[0mopen\u001b[0m\u001b[0;34m(\u001b[0m\u001b[0;34m'somefile'\u001b[0m\u001b[0;34m,\u001b[0m \u001b[0;34m'xt'\u001b[0m\u001b[0;34m)\u001b[0m \u001b[0;32mas\u001b[0m \u001b[0mf\u001b[0m\u001b[0;34m:\u001b[0m\u001b[0;34m\u001b[0m\u001b[0;34m\u001b[0m\u001b[0m\n\u001b[0m\u001b[1;32m      5\u001b[0m     \u001b[0mf\u001b[0m\u001b[0;34m.\u001b[0m\u001b[0mwrite\u001b[0m\u001b[0;34m(\u001b[0m\u001b[0;34m'Hello\\n'\u001b[0m\u001b[0;34m)\u001b[0m\u001b[0;34m\u001b[0m\u001b[0;34m\u001b[0m\u001b[0m\n\u001b[1;32m      6\u001b[0m \u001b[0;34m\u001b[0m\u001b[0m\n",
      "\u001b[0;31mFileExistsError\u001b[0m: [Errno 17] File exists: 'somefile'"
     ]
    }
   ],
   "source": [
    "with open('somefile', 'wt') as f:\n",
    "    f.write('Hello\\n')\n",
    "\n",
    "with open('somefile', 'xt') as f:\n",
    "    f.write('Hello\\n')\n",
    "\n"
   ]
  },
  {
   "cell_type": "markdown",
   "metadata": {},
   "source": [
    "如果文件是二进制的，使用 `xb` 来代替 `xt`"
   ]
  },
  {
   "cell_type": "markdown",
   "metadata": {},
   "source": [
    "* 讨论\n",
    "\n",
    "这一小节演示了在写文件时通常会遇到的一个问题的完美解决方案(不小心覆盖一个已存在的文件)。\n",
    "\n",
    "一个替代方案是先测试这个文件是否存在，像下面这样："
   ]
  },
  {
   "cell_type": "code",
   "execution_count": 3,
   "metadata": {},
   "outputs": [
    {
     "name": "stdout",
     "output_type": "stream",
     "text": [
      "File already exists!\n"
     ]
    }
   ],
   "source": [
    "import os\n",
    "\n",
    "if not os.path.exists('somefile'):\n",
    "    with open('somefile', 'wt') as f:\n",
    "        f.write('Hello\\n')\n",
    "else:\n",
    "    print('File already exists!')"
   ]
  },
  {
   "cell_type": "markdown",
   "metadata": {},
   "source": [
    "显而易见，使用 `x` 文件模式更加简单。\n",
    "\n",
    "要注意的是`x` 模式是一个Python3对 open() 函数特有的扩展。\n",
    "\n",
    "在Python的旧版本或者是Python实现的底层C函数库中都是没有这个模式的。"
   ]
  },
  {
   "cell_type": "markdown",
   "metadata": {},
   "source": [
    "## 5.6 字符串的I/O操作\n",
    "\n",
    "* 问题\n",
    "\n",
    "你想使用操作类文件对象的程序来操作文本或二进制字符串。\n",
    "\n",
    "* 解决方案\n",
    "\n",
    "使用 `io.StringIO()` 和 `io.BytesIO()` 类来创建类文件对象操作字符串数据。比如："
   ]
  },
  {
   "cell_type": "code",
   "execution_count": 4,
   "metadata": {},
   "outputs": [
    {
     "data": {
      "text/plain": [
       "13"
      ]
     },
     "execution_count": 4,
     "metadata": {},
     "output_type": "execute_result"
    }
   ],
   "source": [
    "import io\n",
    "\n",
    "s = io.StringIO()\n",
    "s.write('Hello World \\n')"
   ]
  },
  {
   "cell_type": "code",
   "execution_count": 5,
   "metadata": {},
   "outputs": [],
   "source": [
    "print('This is a test', file=s)"
   ]
  },
  {
   "cell_type": "code",
   "execution_count": 6,
   "metadata": {},
   "outputs": [
    {
     "data": {
      "text/plain": [
       "'Hello World \\nThis is a test\\n'"
      ]
     },
     "execution_count": 6,
     "metadata": {},
     "output_type": "execute_result"
    }
   ],
   "source": [
    "# Get all of the data written so far\n",
    "s.getvalue()"
   ]
  },
  {
   "cell_type": "code",
   "execution_count": 7,
   "metadata": {},
   "outputs": [
    {
     "data": {
      "text/plain": [
       "'Hell'"
      ]
     },
     "execution_count": 7,
     "metadata": {},
     "output_type": "execute_result"
    }
   ],
   "source": [
    "# Wrap a file interface around an existing string\n",
    "s = io.StringIO('Hello\\n World\\n')\n",
    "s.read(4)"
   ]
  },
  {
   "cell_type": "code",
   "execution_count": 8,
   "metadata": {},
   "outputs": [
    {
     "data": {
      "text/plain": [
       "'o\\n World\\n'"
      ]
     },
     "execution_count": 8,
     "metadata": {},
     "output_type": "execute_result"
    }
   ],
   "source": [
    "s.read()"
   ]
  },
  {
   "cell_type": "markdown",
   "metadata": {},
   "source": [
    "`io.StringIO` 只能用于文本。如果你要操作二进制数据，要使用 `io.BytesIO` 类来代替。比如："
   ]
  },
  {
   "cell_type": "code",
   "execution_count": 9,
   "metadata": {},
   "outputs": [
    {
     "data": {
      "text/plain": [
       "b'binary data'"
      ]
     },
     "execution_count": 9,
     "metadata": {},
     "output_type": "execute_result"
    }
   ],
   "source": [
    "s = io.BytesIO()\n",
    "s.write(b'binary data')\n",
    "s.getvalue()"
   ]
  },
  {
   "cell_type": "markdown",
   "metadata": {},
   "source": [
    "* 讨论\n",
    "\n",
    "当你想模拟一个普通的文件的时候 `StringIO` 和 `BytesIO` 类是很有用的。\n",
    "\n",
    "比如，在单元测试中，你可以使用 `StringIO` 来创建一个包含测试数据的类文件对象，这个对象可以被传给某个参数为普通文件对象的函数。\n",
    "\n",
    "需要注意的是，`StringIO` 和 `BytesIO` 实例并没有正确的整数类型的文件描述符。\n",
    "\n",
    "因此，它们不能在那些需要使用真实的系统级文件如文件，管道或者是套接字的程序中使用。"
   ]
  },
  {
   "cell_type": "markdown",
   "metadata": {},
   "source": [
    "## 5.7 读写压缩文件\n",
    "\n",
    "* 问题\n",
    "\n",
    "你想读写一个 `gzip` 或 `bz2` 格式的压缩文件。\n",
    "\n",
    "* 解决方案\n",
    "\n",
    "`gzip` 和 `bz2` 模块可以很容易的处理这些文件。两个模块都为 `open()` 函数提供了另外的实现来解决这个问题。比如，为了以文本形式读取压缩文件，可以这样做：\n",
    "```python\n",
    "# gzip compression\n",
    "import gzip\n",
    "\n",
    "with gzip.open('somefile.gz', 'rt') as f:\n",
    "    text = f.read()\n",
    "\n",
    "# bz2 compression\n",
    "import bz2\n",
    "with bz2.compress('somefile.bz2', 'rt') as f:\n",
    "    text = f.read()\n",
    "```"
   ]
  },
  {
   "cell_type": "markdown",
   "metadata": {},
   "source": [
    "类似的，为了写入压缩数据，可以这样做：\n",
    "\n",
    "```python\n",
    "# gzip compression\n",
    "import gzip\n",
    "with gzip.open('somefile.gz', 'wt') as f:\n",
    "    f.write(text)\n",
    "\n",
    "# bz2 compression\n",
    "import bz2\n",
    "with bz2.open('somefile.bz2', 'wt') as f:\n",
    "    f.write(text)\n",
    "```"
   ]
  },
  {
   "cell_type": "markdown",
   "metadata": {},
   "source": [
    "如上，所有的`I/O`操作都使用文本模式并执行`Unicode`的编码/解码。\n",
    "\n",
    "类似的，如果你想操作二进制数据，使用 `rb` 或者 `wb` 文件模式即可"
   ]
  },
  {
   "cell_type": "markdown",
   "metadata": {},
   "source": [
    "* 讨论\n",
    "\n",
    "大部分情况下读写压缩数据都是很简单的。\n",
    "\n",
    "但是要注意的是选择一个正确的文件模式是非常重要的。如果你不指定模式，那么默认的就是二进制模式，如果这时候程序想要接受的是文本数据，那么就会出错。\n",
    "\n",
    "`gzip.open()` 和 `bz2.open()` 接受跟内置的 `open()` 函数一样的参数，包括 `encoding`，`errors`，`newline` 等等。"
   ]
  },
  {
   "cell_type": "markdown",
   "metadata": {},
   "source": [
    "当写入压缩数据时，可以使用 `compresslevel` 这个可选的关键字参数来指定一个压缩级别。比如：\n",
    "\n",
    "```python\n",
    "with gzip.open('somefile.gz', 'wt', compresslevel=5) as f:\n",
    "    f.write(text)\n",
    "```\n",
    "\n",
    "默认的等级是9，也是最高的压缩等级。等级越低性能越好，但是数据压缩程度也越低。"
   ]
  },
  {
   "cell_type": "markdown",
   "metadata": {},
   "source": [
    "最后一点，`gzip.open()` 和 `bz2.open()` 还有一个很少被知道的特性，它们可以作用在一个已存在并以二进制模式打开的文件上。\n",
    "```python\n",
    "import gzip\n",
    "f = open('somefile.gz', 'rb')\n",
    "with gzip.open(f, 'rt') as g:\n",
    "    text = g.read()\n",
    "```"
   ]
  },
  {
   "cell_type": "markdown",
   "metadata": {},
   "source": [
    "这样就允许 `gzip` 和 `bz2` 模块可以工作在许多类文件对象上，比如套接字，管道和内存中文件等。"
   ]
  },
  {
   "cell_type": "markdown",
   "metadata": {},
   "source": [
    "## 5.8 固定大小记录的文件迭代\n",
    "\n",
    "* 问题\n",
    "\n",
    "你想在一个固定长度记录或者数据块的集合上迭代，而不是在一个文件中一行一行的迭代。\n",
    "\n",
    "* 解决方案\n",
    "\n",
    "通过下面这个小技巧使用 `iter` 和 `functools.partial()` 函数：\n",
    "```python\n",
    "from itertools import partial\n",
    "\n",
    "RECORD_SIZE = 32\n",
    "\n",
    "with open('somefile.data', 'rb') as f:\n",
    "    records = iter(partial(f.read, RECORD_SIZE), b'')\n",
    "    for r in records:\n",
    "        pass\n",
    "```"
   ]
  },
  {
   "cell_type": "markdown",
   "metadata": {},
   "source": [
    "`records` 对象是一个可迭代对象，它会不断的产生固定大小的数据块，直到文件末尾。\n",
    "\n",
    "要注意的是如果总记录大小不是块大小的整数倍的话，最后一个返回元素的字节数会比期望值少。"
   ]
  },
  {
   "cell_type": "markdown",
   "metadata": {},
   "source": [
    "* 讨论\n",
    "\n",
    "`iter()` 函数的一个特性：如果你给它传递一个可调用对象和一个标记值，它会创建一个迭代器。这个迭代器会一直调用传入的可调用对象直到它返回标记值为止，这时候迭代终止。\n",
    "\n",
    "在例子中，`functools.partial` 用来创建一个每次被调用时从文件中读取固定数目字节的可调用对象。 标记值 `b''` 就是当到达文件结尾时的返回值。\n",
    "\n",
    "最后再提一点，上面的例子中的文件时以**二进制模式**打开的。如果是读取固定大小的记录，这通常是最普遍的情况。而对于文本文件，一行一行的读取(默认的迭代行为)更普遍点。"
   ]
  },
  {
   "cell_type": "markdown",
   "metadata": {},
   "source": [
    "## 5.9 读取二进制数据到可变缓冲区中\n",
    "\n",
    "* 问题\n",
    "\n",
    "你想直接读取二进制数据到一个可变缓冲区中，而不需要做任何的中间复制操作。 或者你想原地修改数据并将它写回到一个文件中去。\n",
    "\n",
    "* 解决方案\n",
    "\n",
    "为了读取数据到一个可变数组中，使用文件对象的 `readinto()` 方法。比如："
   ]
  },
  {
   "cell_type": "code",
   "execution_count": 1,
   "metadata": {},
   "outputs": [],
   "source": [
    "import os.path\n",
    "\n",
    "def read_into_buffer(filename):\n",
    "    buf = bytearray(os.path.getsize(filename=filename))\n",
    "    with open(filename, 'rb') as f:\n",
    "        f.readinto(buf)\n",
    "    return buf"
   ]
  },
  {
   "cell_type": "markdown",
   "metadata": {},
   "source": [
    "下面是一个演示这个函数使用方法的例子："
   ]
  },
  {
   "cell_type": "code",
   "execution_count": 2,
   "metadata": {},
   "outputs": [],
   "source": [
    "# Writer a sample file\n",
    "with open('sample.bin', 'wb') as f:\n",
    "    f.write(b'Hello World')"
   ]
  },
  {
   "cell_type": "code",
   "execution_count": 4,
   "metadata": {},
   "outputs": [
    {
     "data": {
      "text/plain": [
       "bytearray(b'Hello World')"
      ]
     },
     "execution_count": 4,
     "metadata": {},
     "output_type": "execute_result"
    }
   ],
   "source": [
    "buf = read_into_buffer('sample.bin')\n",
    "buf"
   ]
  },
  {
   "cell_type": "code",
   "execution_count": 5,
   "metadata": {},
   "outputs": [
    {
     "data": {
      "text/plain": [
       "bytearray(b'Helle World')"
      ]
     },
     "execution_count": 5,
     "metadata": {},
     "output_type": "execute_result"
    }
   ],
   "source": [
    "buf[0:5] = b'Helle'\n",
    "buf"
   ]
  },
  {
   "cell_type": "code",
   "execution_count": 6,
   "metadata": {},
   "outputs": [],
   "source": [
    "with open('newsample.bin', 'wb') as f:\n",
    "    f.write(buf)"
   ]
  },
  {
   "cell_type": "markdown",
   "metadata": {},
   "source": [
    "* 讨论\n",
    "\n",
    "文件对象的 `readinto()` 方法能被用来为预先分配内存的数组填充数据，甚至包括由 `array` 模块或 `numpy` 库创建的数组。\n",
    "\n",
    "和普通 `read()` 方法不同的是，`readinto()` 填充已存在的缓冲区而不是为新对象重新分配内存再返回它们。\n",
    "\n",
    "因此，你可以使用它来避免大量的内存分配操作。比如，如果你读取一个由相同大小的记录组成的二进制文件时，你可以像下面这样写：\n",
    "```python\n",
    "record_size = 32 # Size of each record (adjust value)\n",
    "\n",
    "buf = bytearray(record_size)\n",
    "with open('somefile', 'rb') as f:\n",
    "    while True:\n",
    "        n = f.readinto(buf)\n",
    "        if n < record_size:\n",
    "            break\n",
    "        # Use the contents of buf\n",
    "        ...\n",
    "```"
   ]
  },
  {
   "cell_type": "markdown",
   "metadata": {},
   "source": [
    "另外有一个有趣特性就是 `memoryview` ， 它可以通过零复制的方式对已存在的缓冲区执行切片操作，甚至还能修改它的内容。比如：\n",
    "```python\n",
    ">>> buf\n",
    "bytearray(b'Hello World')\n",
    ">>> m1 = memoryview(buf)\n",
    ">>> m2 = m1[-5:]\n",
    ">>> m2\n",
    "<memory at 0x100681390>\n",
    ">>> m2[:] = b'WORLD'\n",
    ">>> buf\n",
    "bytearray(b'Hello WORLD')\n",
    ">>>\n",
    "```"
   ]
  },
  {
   "cell_type": "markdown",
   "metadata": {},
   "source": [
    "使用 `f.readinto()` 时需要注意的是，你必须检查它的返回值，也就是实际读取的字节数。\n",
    "\n",
    "如果字节数小于缓冲区大小，表明数据被截断或者被破坏了(比如你期望每次读取指定数量的字节)。\n",
    "\n",
    "最后，留心观察其他函数库和模块中和 `into` 相关的函数(比如 `recv_into()`， `pack_into()` 等)。\n",
    "\n",
    "Python的很多其他部分已经能支持直接的I/O或数据访问操作，这些操作可被用来填充或修改数组和缓冲区内容。\n",
    "\n",
    "关于解析二进制结构和 `memoryviews` 使用方法的更高级例子，请参考6.12小节。"
   ]
  },
  {
   "cell_type": "markdown",
   "metadata": {},
   "source": [
    "## 5.10 内存映射的二进制文件\n",
    "\n",
    "* 问题\n",
    "\n",
    "你想内存映射一个二进制文件到一个可变字节数组中，目的可能是为了随机访问它的内容或者是原地做些修改。\n",
    "\n",
    "* 解决方案\n",
    "\n",
    "使用 mmap 模块来内存映射文件。下面是一个工具函数，向你演示了如何打开一个文件并以一种便捷方式内存映射这个文件。"
   ]
  },
  {
   "cell_type": "code",
   "execution_count": 7,
   "metadata": {},
   "outputs": [],
   "source": [
    "import os\n",
    "import mmap\n",
    "\n",
    "def memory_map(filename, access=mmap.ACCESS_WRITE):\n",
    "    size = os.path.getsize(filename)\n",
    "    fd = os.open(filename, os.O_RDWR)\n",
    "    return mmap.mmap(fd, size, access=access)"
   ]
  },
  {
   "cell_type": "markdown",
   "metadata": {},
   "source": [
    "为了使用这个函数，你需要有一个已创建并且内容不为空的文件。 下面是一个例子，教你怎样初始创建一个文件并将其内容扩充到指定大小："
   ]
  },
  {
   "cell_type": "code",
   "execution_count": 8,
   "metadata": {},
   "outputs": [],
   "source": [
    "size = 1000000\n",
    "\n",
    "with open('data', 'wb') as f:\n",
    "    f.seek(size - 1)\n",
    "    f.write(b'\\x00')"
   ]
  },
  {
   "cell_type": "markdown",
   "metadata": {},
   "source": [
    "下面是一个利用 `memory_map()` 函数类内存映射文件内容的例子："
   ]
  },
  {
   "cell_type": "code",
   "execution_count": 9,
   "metadata": {},
   "outputs": [
    {
     "data": {
      "text/plain": [
       "1000000"
      ]
     },
     "execution_count": 9,
     "metadata": {},
     "output_type": "execute_result"
    }
   ],
   "source": [
    "m = memory_map('data')\n",
    "len(m)"
   ]
  },
  {
   "cell_type": "code",
   "execution_count": 10,
   "metadata": {},
   "outputs": [
    {
     "data": {
      "text/plain": [
       "b'\\x00\\x00\\x00\\x00\\x00\\x00\\x00\\x00\\x00\\x00'"
      ]
     },
     "execution_count": 10,
     "metadata": {},
     "output_type": "execute_result"
    }
   ],
   "source": [
    "m[0:10]"
   ]
  },
  {
   "cell_type": "code",
   "execution_count": 11,
   "metadata": {},
   "outputs": [
    {
     "data": {
      "text/plain": [
       "0"
      ]
     },
     "execution_count": 11,
     "metadata": {},
     "output_type": "execute_result"
    }
   ],
   "source": [
    "m[0]"
   ]
  },
  {
   "cell_type": "code",
   "execution_count": 12,
   "metadata": {},
   "outputs": [],
   "source": [
    "# Reassign a slice\n",
    "m[0:11] = b'Hello World'\n",
    "m.close()"
   ]
  },
  {
   "cell_type": "code",
   "execution_count": 13,
   "metadata": {},
   "outputs": [
    {
     "name": "stdout",
     "output_type": "stream",
     "text": [
      "b'Hello World'\n"
     ]
    }
   ],
   "source": [
    "# Verify that changes were made\n",
    "with open('data', 'rb') as f:\n",
    "    print(f.read(11))"
   ]
  },
  {
   "cell_type": "markdown",
   "metadata": {},
   "source": [
    "mmap() 返回的 mmap 对象同样也可以作为一个上下文管理器来使用， 这时候底层的文件会被自动关闭。比如：\n",
    "```python\n",
    ">>> with memory_map('data') as m:\n",
    "...     print(len(m))\n",
    "...     print(m[0:10])\n",
    "...\n",
    "1000000\n",
    "b'Hello World'\n",
    ">>> m.closed\n",
    "True\n",
    ">>>\n",
    "```"
   ]
  },
  {
   "cell_type": "markdown",
   "metadata": {},
   "source": [
    "默认情况下， `memeory_map()` 函数打开的文件同时支持读和写操作。\n",
    "\n",
    "任何的修改内容都会复制回原来的文件中。\n",
    "\n",
    "如果需要只读的访问模式，可以给参数 `access` 赋值为 `mmap.ACCESS_READ` 。比如：\n",
    "\n",
    "```python\n",
    "m = memory_map(filename, mmap.ACCESS_READ)\n",
    "```\n",
    "如果你想在本地修改数据，但是又不想将修改写回到原始文件中，可以使用 mmap.ACCESS_COPY ：\n",
    "```python\n",
    "m = memory_map(filename, mmap.ACCESS_COPY)\n",
    "```"
   ]
  },
  {
   "cell_type": "markdown",
   "metadata": {},
   "source": [
    "* 讨论\n",
    "\n",
    "为了随机访问文件的内容，使用 `mmap` 将文件映射到内存中是一个高效和优雅的方法。\n",
    "\n",
    "例如，你无需打开一个文件并执行大量的 `seek()` ， `read()` ， `write()` 调用，只需要简单的映射文件并使用切片操作访问数据即可。\n",
    "\n",
    "一般来讲， mmap() 所暴露的内存看上去就是一个二进制数组对象。 但是，你可以使用一个内存视图来解析其中的数据。比如：\n",
    "```python\n",
    ">>> m = memory_map('data')\n",
    ">>> # Memoryview of unsigned integers\n",
    ">>> v = memoryview(m).cast('I')\n",
    ">>> v[0] = 7\n",
    ">>> m[0:4]\n",
    "b'\\x07\\x00\\x00\\x00'\n",
    ">>> m[0:4] = b'\\x07\\x01\\x00\\x00'\n",
    ">>> v[0]\n",
    "263\n",
    "```"
   ]
  },
  {
   "cell_type": "markdown",
   "metadata": {},
   "source": [
    "需要强调的一点是，内存映射一个文件并不会导致整个文件被读取到内存中。 也就是说，文件并没有被复制到内存缓存或数组中。相反，操作系统仅仅为文件内容保留了一段虚拟内存。\n",
    "\n",
    "当你访问文件的不同区域时，这些区域的内容才根据需要被读取并映射到内存区域中。 而那些从没被访问到的部分还是留在磁盘上。所有这些过程是透明的，在幕后完成！\n",
    "\n",
    "如果多个Python解释器内存映射同一个文件，得到的 mmap 对象能够被用来在解释器直接交换数据。\n",
    "\n",
    "也就是说，所有解释器都能同时读写数据，并且其中一个解释器所做的修改会自动呈现在其他解释器中。很明显，这里需要考虑同步的问题。但是这种方法有时候可以用来在管道或套接字间传递数据。\n",
    "\n",
    "这一小节中函数尽量写得很通用，同时适用于Unix和Windows平台。要注意的是使用 mmap() 函数时会在底层有一些平台的差异性。\n",
    "\n",
    "另外，还有一些选项可以用来创建匿名的内存映射区域。 如果你对这个感兴趣，确保你仔细研读了Python文档中 这方面的内容 。"
   ]
  },
  {
   "cell_type": "markdown",
   "metadata": {},
   "source": [
    "## 5.11 文件路径名的操作\n",
    "\n",
    "* 问题\n",
    "\n",
    "你需要使用路径名来获取文件名，目录名，绝对路径等等。\n",
    "\n",
    "* 解决方案\n",
    "\n",
    "使用 `os.path` 模块中的函数来操作路径名。下面是一个交互式例子来演示一些关键的特性：\n",
    "```python\n",
    ">>> import os\n",
    ">>> path = '/Users/beazley/Data/data.csv'\n",
    "\n",
    ">>> # Get the last component of the path\n",
    ">>> os.path.basename(path)\n",
    "'data.csv'\n",
    "\n",
    ">>> # Get the directory name\n",
    ">>> os.path.dirname(path)\n",
    "'/Users/beazley/Data'\n",
    "\n",
    ">>> # Join path components together\n",
    ">>> os.path.join('tmp', 'data', os.path.basename(path))\n",
    "'tmp/data/data.csv'\n",
    "\n",
    ">>> # Expand the user's home directory\n",
    ">>> path = '~/Data/data.csv'\n",
    ">>> os.path.expanduser(path)\n",
    "'/Users/beazley/Data/data.csv'\n",
    "\n",
    ">>> # Split the file extension\n",
    ">>> os.path.splitext(path)\n",
    "('~/Data/data', '.csv')\n",
    "```"
   ]
  },
  {
   "cell_type": "markdown",
   "metadata": {},
   "source": [
    "* 讨论\n",
    "\n",
    "对于任何的文件名的操作，你都应该使用 `os.path` 模块，而不是使用标准字符串操作来构造自己的代码。\n",
    "\n",
    "特别是为了可移植性考虑的时候更应如此，因为 `os.path` 模块知道Unix和Windows系统之间的差异并且能够可靠地处理类似 Data/data.csv 和 Data\\data.csv 这样的文件名。\n",
    "\n",
    "其次，你真的不应该浪费时间去重复造轮子。通常最好是直接使用已经为你准备好的功能。\n",
    "\n",
    "要注意的是 `os.path` 还有更多的功能在这里并没有列举出来。可以查阅官方文档来获取更多与文件测试，符号链接等相关的函数说明。"
   ]
  },
  {
   "cell_type": "markdown",
   "metadata": {},
   "source": [
    "## 5.12 测试文件是否存在\n",
    "\n",
    "* 问题\n",
    "\n",
    "你想测试一个文件或目录是否存在。\n",
    "\n",
    "* 解决方案\n",
    "\n",
    "使用 os.path 模块来测试一个文件或目录是否存在。比如"
   ]
  },
  {
   "cell_type": "code",
   "execution_count": 15,
   "metadata": {},
   "outputs": [
    {
     "data": {
      "text/plain": [
       "True"
      ]
     },
     "execution_count": 15,
     "metadata": {},
     "output_type": "execute_result"
    }
   ],
   "source": [
    "import os\n",
    "os.path.exists('passwd.txt')"
   ]
  },
  {
   "cell_type": "code",
   "execution_count": 16,
   "metadata": {},
   "outputs": [
    {
     "data": {
      "text/plain": [
       "False"
      ]
     },
     "execution_count": 16,
     "metadata": {},
     "output_type": "execute_result"
    }
   ],
   "source": [
    "os.path.exists('passwd')"
   ]
  },
  {
   "cell_type": "markdown",
   "metadata": {},
   "source": [
    "你还能进一步测试这个文件时什么类型的。 在下面这些测试中，如果测试的文件不存在的时候，结果都会返回False：\n",
    "```python\n",
    ">>> # Is a regular file\n",
    ">>> os.path.isfile('/etc/passwd')\n",
    "True\n",
    "\n",
    ">>> # Is a directory\n",
    ">>> os.path.isdir('/etc/passwd')\n",
    "False\n",
    "\n",
    ">>> # Is a symbolic link\n",
    ">>> os.path.islink('/usr/local/bin/python3')\n",
    "True\n",
    "\n",
    ">>> # Get the file linked to\n",
    ">>> os.path.realpath('/usr/local/bin/python3')\n",
    "'/usr/local/bin/python3.3'\n",
    "```"
   ]
  },
  {
   "cell_type": "markdown",
   "metadata": {},
   "source": [
    "如果你还想获取元数据(比如文件大小或者是修改日期)，也可以使用 os.path 模块来解决：\n",
    "```python\n",
    ">>> os.path.getsize('/etc/passwd')\n",
    "3669\n",
    ">>> os.path.getmtime('/etc/passwd')\n",
    "1272478234.0\n",
    ">>> import time\n",
    ">>> time.ctime(os.path.getmtime('/etc/passwd'))\n",
    "'Wed Apr 28 13:10:34 2010'\n",
    "```"
   ]
  },
  {
   "cell_type": "markdown",
   "metadata": {},
   "source": [
    "* 讨论\n",
    "\n",
    "使用 os.path 来进行文件测试是很简单的。 在写这些脚本时，可能唯一需要注意的就是你需要考虑文件权限的问题，特别是在获取元数据时候。比如：\n",
    "```python\n",
    ">>> os.path.getsize('/Users/guido/Desktop/foo.txt')\n",
    "Traceback (most recent call last):\n",
    "    File \"<stdin>\", line 1, in <module>\n",
    "    File \"/usr/local/lib/python3.3/genericpath.py\", line 49, in getsize\n",
    "        return os.stat(filename).st_size\n",
    "PermissionError: [Errno 13] Permission denied: '/Users/guido/Desktop/foo.txt'\n",
    "```"
   ]
  },
  {
   "cell_type": "markdown",
   "metadata": {},
   "source": [
    "## 5.13 获取文件夹中的文件列表\n",
    "\n",
    "* 问题\n",
    "\n",
    "你想获取文件系统中某个目录下的所有文件列表。\n",
    "\n",
    "* 解决方案\n",
    "\n",
    "使用 os.listdir() 函数来获取某个目录中的文件列表："
   ]
  },
  {
   "cell_type": "code",
   "execution_count": 2,
   "metadata": {},
   "outputs": [
    {
     "data": {
      "text/plain": [
       "['chapter03_num-data-time.ipynb',\n",
       " 'chapter04_Iterators-generators.ipynb',\n",
       " 'chapter05_file-io.ipynb',\n",
       " 'passwd.txt',\n",
       " 'script.py']"
      ]
     },
     "execution_count": 2,
     "metadata": {},
     "output_type": "execute_result"
    }
   ],
   "source": [
    "import os\n",
    "\n",
    "names = os.listdir('.')\n",
    "names"
   ]
  },
  {
   "cell_type": "markdown",
   "metadata": {},
   "source": [
    "结果会返回目录中所有文件列表，包括所有文件，子目录，符号链接等等。\n",
    "\n",
    "如果你需要通过某种方式过滤数据，可以考虑结合 `os.path` 库中的一些函数来使用列表推导。比如："
   ]
  },
  {
   "cell_type": "code",
   "execution_count": 5,
   "metadata": {},
   "outputs": [
    {
     "data": {
      "text/plain": [
       "['chapter03_num-data-time.ipynb',\n",
       " 'chapter04_Iterators-generators.ipynb',\n",
       " 'chapter05_file-io.ipynb',\n",
       " 'passwd.txt',\n",
       " 'script.py']"
      ]
     },
     "execution_count": 5,
     "metadata": {},
     "output_type": "execute_result"
    }
   ],
   "source": [
    "import os.path\n",
    "\n",
    "# Get all regular files\n",
    "names = [name for name in os.listdir('./')\n",
    "        if os.path.isfile(os.path.join('./', name))]\n",
    "names"
   ]
  },
  {
   "cell_type": "code",
   "execution_count": 11,
   "metadata": {},
   "outputs": [
    {
     "data": {
      "text/plain": [
       "['.git',\n",
       " '01_Basic_Knowledge',\n",
       " '02_Function',\n",
       " '03_Class',\n",
       " '04_File_Exception_Module',\n",
       " '05_tricks',\n",
       " '06_Standard_Library_PY',\n",
       " '07_Numpy',\n",
       " '08_Pandas',\n",
       " '09_Matplotlib',\n",
       " '10_Sklearn',\n",
       " '11_Code_Rules',\n",
       " '12_suggestions',\n",
       " 'python-cookbook']"
      ]
     },
     "execution_count": 11,
     "metadata": {},
     "output_type": "execute_result"
    }
   ],
   "source": [
    "# Get all dirs\n",
    "dirnames = [name for name in os.listdir(r'F:\\Python_Learning')\n",
    "            if os.path.isdir(os.path.join(r'F:\\Python_Learning', name))]\n",
    "dirnames"
   ]
  },
  {
   "cell_type": "markdown",
   "metadata": {},
   "source": [
    "字符串的 `startswith()` 和 `endswith()` 方法对于过滤一个目录的内容也是很有用的。比如："
   ]
  },
  {
   "cell_type": "code",
   "execution_count": 12,
   "metadata": {},
   "outputs": [
    {
     "data": {
      "text/plain": [
       "['script.py']"
      ]
     },
     "execution_count": 12,
     "metadata": {},
     "output_type": "execute_result"
    }
   ],
   "source": [
    "pyfiles = [name for name in os.listdir('./')\n",
    "            if name.endswith('.py')]\n",
    "pyfiles"
   ]
  },
  {
   "cell_type": "markdown",
   "metadata": {},
   "source": [
    "对于文件名的匹配，你可能会考虑使用 `glob` 或 `fnmatch` 模块。比如"
   ]
  },
  {
   "cell_type": "code",
   "execution_count": 13,
   "metadata": {},
   "outputs": [
    {
     "data": {
      "text/plain": [
       "['.\\\\script.py']"
      ]
     },
     "execution_count": 13,
     "metadata": {},
     "output_type": "execute_result"
    }
   ],
   "source": [
    "import glob\n",
    "\n",
    "pyfiles = glob.glob('./*.py')\n",
    "pyfiles"
   ]
  },
  {
   "cell_type": "code",
   "execution_count": 14,
   "metadata": {},
   "outputs": [
    {
     "data": {
      "text/plain": [
       "['script.py']"
      ]
     },
     "execution_count": 14,
     "metadata": {},
     "output_type": "execute_result"
    }
   ],
   "source": [
    "from fnmatch import fnmatch\n",
    "\n",
    "pyfiles = [name for name in os.listdir('.')\n",
    "            if fnmatch(name, '*.py')]\n",
    "\n",
    "pyfiles"
   ]
  },
  {
   "cell_type": "markdown",
   "metadata": {},
   "source": [
    "* 讨论\n",
    "\n",
    "获取目录中的列表是很容易的，但是其返回结果只是目录中实体名列表而已。\n",
    "\n",
    "如果你还想获取其他的元信息，比如文件大小，修改时间等等，你或许还需要使用到 `os.path` 模块中的函数或着 `os.stat()` 函数来收集数据。比如："
   ]
  },
  {
   "cell_type": "code",
   "execution_count": 15,
   "metadata": {},
   "outputs": [
    {
     "name": "stdout",
     "output_type": "stream",
     "text": [
      "script.py 310 1640834981.1747758\n"
     ]
    }
   ],
   "source": [
    "# Example of getting a directory listing\n",
    "import os\n",
    "import os.path\n",
    "import glob\n",
    "\n",
    "pyfiles = glob.glob('*.py')\n",
    "\n",
    "# Get file sizes and modification dates\n",
    "name_sz_date = [(name, os.path.getsize(name), os.path.getmtime(name)) for name in pyfiles]\n",
    "\n",
    "for name, size, mtime in name_sz_date:\n",
    "    print(name, size, mtime)"
   ]
  },
  {
   "cell_type": "code",
   "execution_count": 16,
   "metadata": {},
   "outputs": [
    {
     "name": "stdout",
     "output_type": "stream",
     "text": [
      "script.py 310 1640834981.1747758\n"
     ]
    }
   ],
   "source": [
    "# Alternative: Get file metadata\n",
    "file_metadata = [(name, os.stat(name)) for name in pyfiles]\n",
    "\n",
    "for name, meta in file_metadata:\n",
    "    print(name, meta.st_size, meta.st_mtime)"
   ]
  },
  {
   "cell_type": "markdown",
   "metadata": {},
   "source": [
    "最后还有一点要注意的就是，有时候在处理文件名编码问题时候可能会出现一些问题。\n",
    "\n",
    "通常来讲，函数 `os.listdir()` 返回的实体列表会根据系统默认的文件名编码来解码。\n",
    "\n",
    "但是有时候也会碰到一些不能正常解码的文件名。关于文件名的处理问题，在5.14和5.15小节有更详细的讲解。"
   ]
  },
  {
   "cell_type": "markdown",
   "metadata": {},
   "source": [
    "## 5.14 忽略文件名编码\n",
    "\n",
    "* 问题\n",
    "\n",
    "你想使用原始文件名执行文件的I/O操作，也就是说文件名并没有经过系统默认编码去解码或编码过。\n",
    "\n",
    "* 解决方案\n",
    "\n",
    "默认情况下，所有的文件名都会根据 `·`sys.getfilesystemencoding()` 返回的文本编码来编码或解码。比如："
   ]
  },
  {
   "cell_type": "code",
   "execution_count": 17,
   "metadata": {},
   "outputs": [
    {
     "data": {
      "text/plain": [
       "'utf-8'"
      ]
     },
     "execution_count": 17,
     "metadata": {},
     "output_type": "execute_result"
    }
   ],
   "source": [
    "import sys\n",
    "sys.getfilesystemencoding()"
   ]
  },
  {
   "cell_type": "markdown",
   "metadata": {},
   "source": [
    "如果因为某种原因你想忽略这种编码，可以使用一个原始字节字符串来指定一个文件名即可。比如："
   ]
  },
  {
   "cell_type": "code",
   "execution_count": 18,
   "metadata": {},
   "outputs": [],
   "source": [
    "# Write a file using a unicode filename\n",
    "with open('jalape\\xf1o.txt', 'w') as f:\n",
    "    f.write('Spicy!')"
   ]
  },
  {
   "cell_type": "code",
   "execution_count": 19,
   "metadata": {},
   "outputs": [
    {
     "data": {
      "text/plain": [
       "['chapter03_num-data-time.ipynb',\n",
       " 'chapter04_Iterators-generators.ipynb',\n",
       " 'chapter05_file-io.ipynb',\n",
       " 'jalapeño.txt',\n",
       " 'passwd.txt',\n",
       " 'script.py']"
      ]
     },
     "execution_count": 19,
     "metadata": {},
     "output_type": "execute_result"
    }
   ],
   "source": [
    "# Directory listing(decoed)\n",
    "import os\n",
    "os.listdir('.')"
   ]
  },
  {
   "cell_type": "code",
   "execution_count": 20,
   "metadata": {},
   "outputs": [
    {
     "data": {
      "text/plain": [
       "[b'chapter03_num-data-time.ipynb',\n",
       " b'chapter04_Iterators-generators.ipynb',\n",
       " b'chapter05_file-io.ipynb',\n",
       " b'jalape\\xc3\\xb1o.txt',\n",
       " b'passwd.txt',\n",
       " b'script.py']"
      ]
     },
     "execution_count": 20,
     "metadata": {},
     "output_type": "execute_result"
    }
   ],
   "source": [
    "# Directory listing(raw)\n",
    "os.listdir(b'.')  # Note: byte string\n"
   ]
  },
  {
   "cell_type": "code",
   "execution_count": 23,
   "metadata": {},
   "outputs": [
    {
     "name": "stdout",
     "output_type": "stream",
     "text": [
      "Spicy!\n"
     ]
    }
   ],
   "source": [
    "# Open file with raw filename\n",
    "with open(b'jalape\\xc3\\xb1o.txt') as f:\n",
    "    print(f.read())"
   ]
  },
  {
   "cell_type": "markdown",
   "metadata": {},
   "source": [
    "正如你所见，在最后两个操作中，当你给文件相关函数如 `open()` 和 `os.listdir()` 传递字节字符串时，文件名的处理方式会稍有不同。"
   ]
  },
  {
   "cell_type": "markdown",
   "metadata": {},
   "source": [
    "* 讨论\n",
    "\n",
    "通常来讲，你不需要担心文件名的编码和解码，普通的文件名操作应该就没问题了。\n",
    "\n",
    "但是，有些操作系统允许用户通过偶然或恶意方式去创建名字不符合默认编码的文件。\n",
    "\n",
    "这些文件名可能会神秘地中断那些需要处理大量文件的Python程序。\n",
    "\n",
    "读取目录并通过原始未解码方式处理文件名可以有效的避免这样的问题，尽管这样会带来一定的编程难度。\n",
    "\n",
    "关于打印不可解码的文件名，请参考5.15小节。"
   ]
  },
  {
   "cell_type": "markdown",
   "metadata": {},
   "source": [
    "## 5.15 打印不合法的文件名\n",
    "* 问题\n",
    "\n",
    "你的程序获取了一个目录中的文件名列表，但是当它试着去打印文件名的时候程序崩溃，\n",
    "\n",
    "出现了 `UnicodeEncodeError` 异常和一条奇怪的消息 —— `surrogates not allowed`。\n",
    "\n",
    "* 解决方案\n",
    "\n",
    "当打印未知的文件名时，使用下面的方法可以避免这样的错误：\n",
    "```python\n",
    "def bad_filename(filename):\n",
    "    return repr(filename)[1:-1]\n",
    "\n",
    "try:\n",
    "    print(filename)\n",
    "except UnicodeEncodeError:\n",
    "    print(bad_filename(filename))\n",
    "```"
   ]
  },
  {
   "cell_type": "markdown",
   "metadata": {},
   "source": [
    "* 讨论\n",
    "\n",
    "这一小节讨论的是在编写必须处理文件系统的程序时一个不太常见但又很棘手的问题。\n",
    "\n",
    "默认情况下，Python假定所有文件名都已经根据 `sys.getfilesystemencoding()` 的值编码过了。\n",
    "\n",
    "但是，有一些文件系统并没有强制要求这样做，因此允许创建文件名没有正确编码的文件。\n",
    "\n",
    "这种情况不太常见，但是总会有些用户冒险这样做或者是无意之中这样做了(可能是在一个有缺陷的代码中给 `open()` 函数传递了一个不合规范的文件名)。\n",
    "\n",
    "当执行类似 `os.listdir()` 这样的函数时，这些不合规范的文件名就会让Python程序报错。\n",
    "\n",
    "一方面，它不能仅仅只是丢弃这些不合格的名字。而另一方面，它又不能将这些文件名转换为正确的文本字符串。\n",
    "\n",
    "Python对这个问题的解决方案是从文件名中获取未解码的字节值比如 `\\xhh` 并将它映射成Unicode字符 `\\udchh` 表示的所谓的”代理编码”。\n",
    "\n",
    "下面一个例子演示了当一个不合格目录列表中含有一个文件名为 `bäd.txt` (使用Latin-1而不是UTF-8编码)时的样子："
   ]
  },
  {
   "cell_type": "code",
   "execution_count": 28,
   "metadata": {},
   "outputs": [
    {
     "data": {
      "text/plain": [
       "['bäd.txt',\n",
       " 'chapter03_num-data-time.ipynb',\n",
       " 'chapter04_Iterators-generators.ipynb',\n",
       " 'chapter05_file-io.ipynb',\n",
       " 'jalapeño.txt',\n",
       " 'passwd.txt',\n",
       " 'script.py']"
      ]
     },
     "execution_count": 28,
     "metadata": {},
     "output_type": "execute_result"
    }
   ],
   "source": [
    "import os\n",
    "\n",
    "files = os.listdir('.')\n",
    "files"
   ]
  },
  {
   "cell_type": "markdown",
   "metadata": {},
   "source": [
    "如果你有代码需要操作文件名或者将文件名传递给 `open()` 这样的函数，一切都能正常工作。\n",
    "\n",
    "只有当你想要输出文件名时才会碰到些麻烦(比如打印输出到屏幕或日志文件等)。特别的，当你想打印上面的文件名列表时，你的程序就会崩溃：\n",
    "```python\n",
    ">>> for name in files:\n",
    "...     print(name)\n",
    "...\n",
    "spam.py\n",
    "Traceback (most recent call last):\n",
    "    File \"<stdin>\", line 2, in <module>\n",
    "UnicodeEncodeError: 'utf-8' codec can't encode character '\\udce4' in\n",
    "position 1: surrogates not allowed\n",
    "```"
   ]
  },
  {
   "cell_type": "markdown",
   "metadata": {},
   "source": [
    "程序崩溃的原因就是字符 `\\udce4` 是一个非法的Unicode字符。\n",
    "\n",
    "它其实是一个被称为代理字符对的双字符组合的后半部分。由于缺少了前半部分，因此它是个非法的Unicode。\n",
    "\n",
    "所以，唯一能成功输出的方法就是当遇到不合法文件名时采取相应的补救措施。 比如可以将上述代码修改如下：\n",
    "```python\n",
    ">>> for name in files:\n",
    "... try:\n",
    "...     print(name)\n",
    "... except UnicodeEncodeError:\n",
    "...     print(bad_filename(name))\n",
    "...\n",
    "spam.py\n",
    "b\\udce4d.txt\n",
    "foo.txt\n",
    "```"
   ]
  },
  {
   "cell_type": "markdown",
   "metadata": {},
   "source": [
    "在 `bad_filename()` 函数中怎样处置取决于你自己。 另外一个选择就是通过某种方式重新编码，示例如下："
   ]
  },
  {
   "cell_type": "code",
   "execution_count": 30,
   "metadata": {},
   "outputs": [],
   "source": [
    "def bad_filename(filename):\n",
    "    temp = filename.encode(sys.getfilesystemencoding(), errors='surrogateescape')\n",
    "    return temp.decode('latin-1')"
   ]
  },
  {
   "cell_type": "markdown",
   "metadata": {},
   "source": [
    "`surrogateescape`:\n",
    "\n",
    "这种是Python在绝大部分面向OS的API中所使用的错误处理器，\n",
    "\n",
    "它能以一种优雅的方式处理由操作系统提供的数据的编码问题。\n",
    "\n",
    "在解码出错时会将出错字节存储到一个很少被使用到的Unicode编码范围内。\n",
    "\n",
    "在编码时将那些隐藏值又还原回原先解码失败的字节序列。\n",
    "\n",
    "它不仅对于OS API非常有用，也能很容易的处理其他情况下的编码错误。"
   ]
  },
  {
   "cell_type": "markdown",
   "metadata": {},
   "source": [
    "使用这个版本产生的输出如下：\n",
    "```python\n",
    ">>> for name in files:\n",
    "...     try:\n",
    "...         print(name)\n",
    "...     except UnicodeEncodeError:\n",
    "...         print(bad_filename(name))\n",
    "...\n",
    "spam.py\n",
    "bäd.txt\n",
    "foo.txt\n",
    "```\n",
    "这一小节主题可能会被大部分读者所忽略。\n",
    "\n",
    "但是如果你在**编写依赖文件名和文件系统的关键任务程序时**，就必须得考虑到这个。\n",
    "\n",
    "否则你可能会在某个周末被叫到办公室去调试一些令人费解的错误。"
   ]
  },
  {
   "cell_type": "markdown",
   "metadata": {},
   "source": [
    "## 5.16 增加或改变已打开文件的编码\n",
    "\n",
    "* 问题\n",
    "\n",
    "你想在不关闭一个已打开的文件前提下增加或改变它的Unicode编码。\n",
    "\n",
    "* 解决方案\n",
    "\n",
    "如果你想给一个以二进制模式打开的文件添加Unicode编码/解码方式， 可以使用 `io.TextIOWrapper()` 对象包装它。比如：\n"
   ]
  },
  {
   "cell_type": "code",
   "execution_count": 32,
   "metadata": {},
   "outputs": [],
   "source": [
    "import urllib.request\n",
    "import io\n",
    "\n",
    "u = urllib.request.urlopen('https://python3-cookbook.readthedocs.io/zh_CN/latest/c05/p16_add_change_encoding_of_already_open_file.html')\n",
    "f = io.TextIOWrapper(u, encoding='utf-8')\n",
    "text = f.read()"
   ]
  },
  {
   "cell_type": "code",
   "execution_count": 47,
   "metadata": {},
   "outputs": [
    {
     "data": {
      "text/plain": [
       "'\\n\\n<!DOCTYPE html>\\n<!--[if IE 8]><html class=\"no-js lt-ie9\" lang=\"zh-CN\" > <![endif]-->\\n<!--[if gt IE'"
      ]
     },
     "execution_count": 47,
     "metadata": {},
     "output_type": "execute_result"
    }
   ],
   "source": [
    "text[0:100]"
   ]
  },
  {
   "cell_type": "markdown",
   "metadata": {},
   "source": [
    "如果你想修改一个已经打开的文本模式的文件的编码方式，可以先使用 `detach()` 方法移除掉已存在的文本编码层，并使用新的编码方式代替。下面是一个在 sys.stdout 上修改编码方式的例子："
   ]
  },
  {
   "cell_type": "code",
   "execution_count": 33,
   "metadata": {},
   "outputs": [
    {
     "data": {
      "text/plain": [
       "'UTF-8'"
      ]
     },
     "execution_count": 33,
     "metadata": {},
     "output_type": "execute_result"
    }
   ],
   "source": [
    "import sys\n",
    "sys.stdout.encoding"
   ]
  },
  {
   "cell_type": "code",
   "execution_count": 34,
   "metadata": {},
   "outputs": [
    {
     "ename": "UnsupportedOperation",
     "evalue": "detach",
     "output_type": "error",
     "traceback": [
      "\u001b[1;31m---------------------------------------------------------------------------\u001b[0m",
      "\u001b[1;31mUnsupportedOperation\u001b[0m                      Traceback (most recent call last)",
      "\u001b[1;32m<ipython-input-34-7652cbe29144>\u001b[0m in \u001b[0;36m<module>\u001b[1;34m\u001b[0m\n\u001b[1;32m----> 1\u001b[1;33m \u001b[0msys\u001b[0m\u001b[1;33m.\u001b[0m\u001b[0mstdout\u001b[0m \u001b[1;33m=\u001b[0m \u001b[0mio\u001b[0m\u001b[1;33m.\u001b[0m\u001b[0mTextIOWrapper\u001b[0m\u001b[1;33m(\u001b[0m\u001b[0msys\u001b[0m\u001b[1;33m.\u001b[0m\u001b[0mstdout\u001b[0m\u001b[1;33m.\u001b[0m\u001b[0mdetach\u001b[0m\u001b[1;33m(\u001b[0m\u001b[1;33m)\u001b[0m\u001b[1;33m,\u001b[0m \u001b[0mencoding\u001b[0m\u001b[1;33m=\u001b[0m\u001b[1;34m'latin-1'\u001b[0m\u001b[1;33m)\u001b[0m\u001b[1;33m\u001b[0m\u001b[1;33m\u001b[0m\u001b[0m\n\u001b[0m",
      "\u001b[1;31mUnsupportedOperation\u001b[0m: detach"
     ]
    }
   ],
   "source": [
    "sys.stdout = io.TextIOWrapper(sys.stdout.detach(), encoding='latin-1')"
   ]
  },
  {
   "cell_type": "markdown",
   "metadata": {},
   "source": [
    "这样做可能会中断你的终端"
   ]
  },
  {
   "cell_type": "markdown",
   "metadata": {},
   "source": [
    "* 讨论\n",
    "\n",
    "I/O系统由一系列的层次构建而成。你可以试着运行下面这个操作一个文本文件的例子来查看这种层次："
   ]
  },
  {
   "cell_type": "code",
   "execution_count": 35,
   "metadata": {},
   "outputs": [
    {
     "data": {
      "text/plain": [
       "<_io.TextIOWrapper name='./passwd.txt' mode='w' encoding='cp936'>"
      ]
     },
     "execution_count": 35,
     "metadata": {},
     "output_type": "execute_result"
    }
   ],
   "source": [
    "f = open('./passwd.txt', 'w')\n",
    "f"
   ]
  },
  {
   "cell_type": "code",
   "execution_count": 36,
   "metadata": {},
   "outputs": [
    {
     "data": {
      "text/plain": [
       "<_io.BufferedWriter name='./passwd.txt'>"
      ]
     },
     "execution_count": 36,
     "metadata": {},
     "output_type": "execute_result"
    }
   ],
   "source": [
    "f.buffer"
   ]
  },
  {
   "cell_type": "code",
   "execution_count": 37,
   "metadata": {},
   "outputs": [
    {
     "data": {
      "text/plain": [
       "<_io.FileIO name='./passwd.txt' mode='wb' closefd=True>"
      ]
     },
     "execution_count": 37,
     "metadata": {},
     "output_type": "execute_result"
    }
   ],
   "source": [
    "f.buffer.raw"
   ]
  },
  {
   "cell_type": "markdown",
   "metadata": {},
   "source": [
    "在这个例子中，`io.TextIOWrapper` 是一个编码和解码Unicode的文本处理层，\n",
    "\n",
    "`io.BufferedWriter` 是一个处理二进制数据的带缓冲的I/O层，\n",
    "\n",
    "`io.FileIO` 是一个表示操作系统底层文件描述符的原始文件；\n",
    "\n",
    "增加或改变文本编码会涉及增加或改变最上面的 `io.TextIOWrapper` 层。"
   ]
  },
  {
   "cell_type": "markdown",
   "metadata": {},
   "source": [
    "一般来讲，像上面例子这样通过访问属性值来直接操作不同的层是很不安全的。 例如，如果你试着使用下面这样的技术改变编码看看会发生什么："
   ]
  },
  {
   "cell_type": "code",
   "execution_count": 38,
   "metadata": {},
   "outputs": [
    {
     "data": {
      "text/plain": [
       "<_io.TextIOWrapper name='./passwd.txt' mode='w' encoding='cp936'>"
      ]
     },
     "execution_count": 38,
     "metadata": {},
     "output_type": "execute_result"
    }
   ],
   "source": [
    "f"
   ]
  },
  {
   "cell_type": "code",
   "execution_count": 39,
   "metadata": {},
   "outputs": [
    {
     "data": {
      "text/plain": [
       "<_io.TextIOWrapper name='./passwd.txt' encoding='latin-1'>"
      ]
     },
     "execution_count": 39,
     "metadata": {},
     "output_type": "execute_result"
    }
   ],
   "source": [
    "f = io.TextIOWrapper(f.buffer, encoding='latin-1')\n",
    "f"
   ]
  },
  {
   "cell_type": "code",
   "execution_count": 40,
   "metadata": {},
   "outputs": [
    {
     "data": {
      "text/plain": [
       "5"
      ]
     },
     "execution_count": 40,
     "metadata": {},
     "output_type": "execute_result"
    }
   ],
   "source": [
    "f.write('Hello')"
   ]
  },
  {
   "cell_type": "markdown",
   "metadata": {},
   "source": [
    "```python\n",
    ">>> f\n",
    "<_io.TextIOWrapper name='sample.txt' mode='w' encoding='UTF-8'>\n",
    ">>> f = io.TextIOWrapper(f.buffer, encoding='latin-1')\n",
    ">>> f\n",
    "<_io.TextIOWrapper name='sample.txt' encoding='latin-1'>\n",
    ">>> f.write('Hello')\n",
    "Traceback (most recent call last):\n",
    "    File \"<stdin>\", line 1, in <module>\n",
    "ValueError: I/O operation on closed file.\n",
    ">>>\n",
    "```"
   ]
  },
  {
   "cell_type": "markdown",
   "metadata": {},
   "source": [
    ">>> 原文中报错了，但是在本地测试并没有报错\n",
    "\n",
    "结果出错了，因为f的原始值已经被破坏了并关闭了底层的文件。\n",
    "\n",
    "detach() 方法会断开文件的最顶层并返回第二层，之后最顶层就没什么用了。例如："
   ]
  },
  {
   "cell_type": "code",
   "execution_count": 42,
   "metadata": {},
   "outputs": [
    {
     "data": {
      "text/plain": [
       "<_io.TextIOWrapper name='passwd.txt' mode='w' encoding='cp936'>"
      ]
     },
     "execution_count": 42,
     "metadata": {},
     "output_type": "execute_result"
    }
   ],
   "source": [
    "f = open('passwd.txt', 'w')\n",
    "f"
   ]
  },
  {
   "cell_type": "code",
   "execution_count": 43,
   "metadata": {},
   "outputs": [
    {
     "data": {
      "text/plain": [
       "<_io.BufferedWriter name='passwd.txt'>"
      ]
     },
     "execution_count": 43,
     "metadata": {},
     "output_type": "execute_result"
    }
   ],
   "source": [
    "b = f.detach()\n",
    "b"
   ]
  },
  {
   "cell_type": "code",
   "execution_count": 44,
   "metadata": {},
   "outputs": [
    {
     "ename": "ValueError",
     "evalue": "underlying buffer has been detached",
     "output_type": "error",
     "traceback": [
      "\u001b[1;31m---------------------------------------------------------------------------\u001b[0m",
      "\u001b[1;31mValueError\u001b[0m                                Traceback (most recent call last)",
      "\u001b[1;32m<ipython-input-44-884d564a2a6f>\u001b[0m in \u001b[0;36m<module>\u001b[1;34m\u001b[0m\n\u001b[1;32m----> 1\u001b[1;33m \u001b[0mf\u001b[0m\u001b[1;33m.\u001b[0m\u001b[0mwrite\u001b[0m\u001b[1;33m(\u001b[0m\u001b[1;34m'Hello'\u001b[0m\u001b[1;33m)\u001b[0m\u001b[1;33m\u001b[0m\u001b[1;33m\u001b[0m\u001b[0m\n\u001b[0m",
      "\u001b[1;31mValueError\u001b[0m: underlying buffer has been detached"
     ]
    }
   ],
   "source": [
    "f.write('Hello')"
   ]
  },
  {
   "cell_type": "markdown",
   "metadata": {},
   "source": [
    "一旦断开最顶层后，你就可以给返回结果添加一个新的最顶层。比如："
   ]
  },
  {
   "cell_type": "code",
   "execution_count": 45,
   "metadata": {},
   "outputs": [
    {
     "data": {
      "text/plain": [
       "<_io.TextIOWrapper name='passwd.txt' encoding='latin-1'>"
      ]
     },
     "execution_count": 45,
     "metadata": {},
     "output_type": "execute_result"
    }
   ],
   "source": [
    "f = io.TextIOWrapper(b, encoding='latin-1')\n",
    "f"
   ]
  },
  {
   "cell_type": "markdown",
   "metadata": {},
   "source": [
    "尽管已经向你演示了改变编码的方法， 但是你还可以利用这种技术来改变文件行处理、错误机制以及文件处理的其他方面。例如："
   ]
  },
  {
   "cell_type": "code",
   "execution_count": 46,
   "metadata": {},
   "outputs": [
    {
     "ename": "UnsupportedOperation",
     "evalue": "detach",
     "output_type": "error",
     "traceback": [
      "\u001b[1;31m---------------------------------------------------------------------------\u001b[0m",
      "\u001b[1;31mUnsupportedOperation\u001b[0m                      Traceback (most recent call last)",
      "\u001b[1;32m<ipython-input-46-fb843a546563>\u001b[0m in \u001b[0;36m<module>\u001b[1;34m\u001b[0m\n\u001b[1;32m----> 1\u001b[1;33m \u001b[0msys\u001b[0m\u001b[1;33m.\u001b[0m\u001b[0mstdout\u001b[0m \u001b[1;33m=\u001b[0m \u001b[0mio\u001b[0m\u001b[1;33m.\u001b[0m\u001b[0mTextIOWrapper\u001b[0m\u001b[1;33m(\u001b[0m\u001b[0msys\u001b[0m\u001b[1;33m.\u001b[0m\u001b[0mstdout\u001b[0m\u001b[1;33m.\u001b[0m\u001b[0mdetach\u001b[0m\u001b[1;33m(\u001b[0m\u001b[1;33m)\u001b[0m\u001b[1;33m,\u001b[0m \u001b[0mencoding\u001b[0m\u001b[1;33m=\u001b[0m\u001b[1;34m'ascii'\u001b[0m\u001b[1;33m,\u001b[0m \u001b[0merrors\u001b[0m\u001b[1;33m=\u001b[0m\u001b[1;34m'xmlcharrefreplace'\u001b[0m\u001b[1;33m)\u001b[0m\u001b[1;33m\u001b[0m\u001b[1;33m\u001b[0m\u001b[0m\n\u001b[0m\u001b[0;32m      2\u001b[0m \u001b[1;33m\u001b[0m\u001b[0m\n\u001b[0;32m      3\u001b[0m \u001b[0mprint\u001b[0m\u001b[1;33m(\u001b[0m\u001b[1;34m'Jalape\\u00f1o'\u001b[0m\u001b[1;33m)\u001b[0m\u001b[1;33m\u001b[0m\u001b[1;33m\u001b[0m\u001b[0m\n",
      "\u001b[1;31mUnsupportedOperation\u001b[0m: detach"
     ]
    }
   ],
   "source": [
    "sys.stdout = io.TextIOWrapper(sys.stdout.detach(), encoding='ascii', errors='xmlcharrefreplace')\n",
    "\n",
    "print('Jalape\\u00f1o')"
   ]
  },
  {
   "cell_type": "markdown",
   "metadata": {},
   "source": [
    "注意下最后输出中的非ASCII字符 ñ 是如何被 &#241; 取代的。"
   ]
  },
  {
   "cell_type": "markdown",
   "metadata": {},
   "source": []
  }
 ],
 "metadata": {
  "interpreter": {
   "hash": "6197dd7251d6ffd08ad898aa95a52abbeb77d69fb7b7878fb161428e68f3f705"
  },
  "kernelspec": {
   "display_name": "Python 3.8.0 64-bit ('workspace': conda)",
   "language": "python",
   "name": "python3"
  },
  "language_info": {
   "codemirror_mode": {
    "name": "ipython",
    "version": 3
   },
   "file_extension": ".py",
   "mimetype": "text/x-python",
   "name": "python",
   "nbconvert_exporter": "python",
   "pygments_lexer": "ipython3",
   "version": "3.6.13"
  },
  "orig_nbformat": 4
 },
 "nbformat": 4,
 "nbformat_minor": 2
}

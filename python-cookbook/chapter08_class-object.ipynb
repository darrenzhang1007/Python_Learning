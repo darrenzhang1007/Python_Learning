{
 "cells": [
  {
   "cell_type": "markdown",
   "metadata": {},
   "source": [
    "# 第八章：类与对象\n",
    "\n",
    "本章主要关注点的是和类定义有关的常见编程模型。包括让对象支持常见的Python特性、特殊方法的使用、类封装技术、继承、内存管理以及有用的设计模式。"
   ]
  },
  {
   "cell_type": "markdown",
   "metadata": {},
   "source": [
    "## 8.1 改变对象的字符串显示\n",
    "\n",
    "* 问题\n",
    "\n",
    "改变对象实例的打印或显示输出，让它们更具可读性。\n",
    "\n",
    "* 解决方案\n",
    "\n",
    "要改变一个实例的字符串表示，可重新定义它的 `__str__()` 和 `__repr__()` 方法。"
   ]
  },
  {
   "cell_type": "code",
   "execution_count": 2,
   "metadata": {},
   "outputs": [],
   "source": [
    "class Pair:\n",
    "    def __init__(self, x, y):\n",
    "        self.x = x\n",
    "        self.y = y\n",
    "    \n",
    "    def __repr__(self):\n",
    "        return 'Pair({0.x!r}, {0.y!r})'.format(self)\n",
    "    \n",
    "    def __str__(self):\n",
    "        return '({0.x!s}, {0.y!s})'.format(self)"
   ]
  },
  {
   "cell_type": "markdown",
   "metadata": {},
   "source": [
    "`__repr__()` 返回一个实例的代码表示形式，通常用来构造这个实例。内置的 `repr()` 函数返回这个字符串，跟我们使用交互式解释器显示的值是一样的。\n",
    "\n",
    "`__str__()` 将实例转换为一个字符串，使用 `str()` 或 `print()` 函数会输出这个字符串。"
   ]
  },
  {
   "cell_type": "code",
   "execution_count": 3,
   "metadata": {},
   "outputs": [
    {
     "data": {
      "text/plain": [
       "Pair(3, 4)"
      ]
     },
     "execution_count": 3,
     "metadata": {},
     "output_type": "execute_result"
    }
   ],
   "source": [
    "p = Pair(3, 4)\n",
    "p  # __repr__() output"
   ]
  },
  {
   "cell_type": "code",
   "execution_count": 5,
   "metadata": {},
   "outputs": [
    {
     "name": "stdout",
     "output_type": "stream",
     "text": [
      "(3, 4)\n"
     ]
    }
   ],
   "source": [
    "print(p)  # __str__() output"
   ]
  },
  {
   "cell_type": "markdown",
   "metadata": {},
   "source": [
    "上述代码还演示了再格式化的时候怎样使用不同的字符串表现形式。\n",
    "\n",
    "特别来讲，`!r` 格式化代码指明输出使用 `__repr__()` 来代替默认的 `__str()__`。\n",
    "\n",
    "可以使用Pair类测试"
   ]
  },
  {
   "cell_type": "code",
   "execution_count": 6,
   "metadata": {},
   "outputs": [
    {
     "name": "stdout",
     "output_type": "stream",
     "text": [
      "p is Pair(3, 4)\n"
     ]
    }
   ],
   "source": [
    "p = Pair(3, 4)\n",
    "print('p is {0!r}'.format(p))"
   ]
  },
  {
   "cell_type": "code",
   "execution_count": 7,
   "metadata": {},
   "outputs": [
    {
     "name": "stdout",
     "output_type": "stream",
     "text": [
      "p is (3, 4)\n"
     ]
    }
   ],
   "source": [
    "print('p is {0}'.format(p))"
   ]
  },
  {
   "cell_type": "markdown",
   "metadata": {},
   "source": [
    "* 讨论\n",
    "\n",
    "自定义 `__repr__()` 和 `__str()__` 可以简化调试和实例输出。我们只用通过打印实例，程序员就会看到实例更加详细的信息\n",
    "\n",
    "`__repr__()` 生成的文本字符串标准做法是需要让 `eval(repr(x)) == x` 为真。\n",
    "\n",
    "\n",
    "如果不行或者不希望有这种行为，那么通常就让它产生一段有帮助意义的文本，并且以 `<` 和 `>` 括起来"
   ]
  },
  {
   "cell_type": "code",
   "execution_count": null,
   "metadata": {},
   "outputs": [],
   "source": [
    "f = open('file.dat')"
   ]
  },
  {
   "cell_type": "markdown",
   "metadata": {},
   "source": [
    "如果 `__str__()` 没有被定义，那么就会使用 `__repr__()` 来代替输出。\n",
    "\n",
    "上面的 `format()` 格式化方法 `{0.x}` 对应的是第1个参数的x属性。因此，在下面的函数中，0实际上指的就是 self 本身：\n",
    "```python\n",
    "def __repr__(self):\n",
    "    return 'Pair({0.x!r}, {0.y!r})'.format(self)\n",
    "```"
   ]
  },
  {
   "cell_type": "markdown",
   "metadata": {},
   "source": [
    "作为这种实现的一个替代，你也可以使用 `%` 操作符，就像下面这样：\n",
    "```python\n",
    "def __repr__(self):\n",
    "    return 'Pair(%r, %r)' % (self.x, self.y)\n",
    "```"
   ]
  },
  {
   "cell_type": "markdown",
   "metadata": {},
   "source": [
    "## 8.2 自定义字符串的格式化\n",
    "\n",
    "* 问题\n",
    "\n",
    "通过 `format()` 函数和字符串方法使得一个对象能支持自定义的格式化。\n",
    "\n",
    "* 解决方案\n",
    "\n",
    "为了自定义字符串的格式化，我们需要在类上面定义 `__format__()` 方法。"
   ]
  },
  {
   "cell_type": "code",
   "execution_count": 8,
   "metadata": {},
   "outputs": [],
   "source": [
    "_formats = {\n",
    "    'ymd' : '{d.year}-{d.month}-{d.day}',\n",
    "    'mdy' : '{d.month}/{d.day}/{d.year}',\n",
    "    'dmy' : '{d.day}/{d.month}/{d.year}'\n",
    "    }"
   ]
  },
  {
   "cell_type": "code",
   "execution_count": 14,
   "metadata": {},
   "outputs": [],
   "source": [
    "class Date:\n",
    "    def __init__(self, year, month, day):\n",
    "        self.year = year\n",
    "        self.month = month\n",
    "        self.day = day\n",
    "\n",
    "    def __format__(self, code):\n",
    "        if code == '':\n",
    "            code = 'ymd'\n",
    "        fmt = _formats[code]\n",
    "        print(self)\n",
    "        return fmt.format(d=self)"
   ]
  },
  {
   "cell_type": "code",
   "execution_count": 15,
   "metadata": {},
   "outputs": [
    {
     "name": "stdout",
     "output_type": "stream",
     "text": [
      "<__main__.Date object at 0x7f5ea7d9c1f0>\n"
     ]
    },
    {
     "data": {
      "text/plain": [
       "'2012-12-21'"
      ]
     },
     "execution_count": 15,
     "metadata": {},
     "output_type": "execute_result"
    }
   ],
   "source": [
    "# 现在 `Date` 类的实例可以支持格式化操作了\n",
    "d = Date(2012, 12, 21)\n",
    "format(d)"
   ]
  },
  {
   "cell_type": "code",
   "execution_count": 16,
   "metadata": {},
   "outputs": [
    {
     "name": "stdout",
     "output_type": "stream",
     "text": [
      "<__main__.Date object at 0x7f5ea7d9c1f0>\n"
     ]
    },
    {
     "data": {
      "text/plain": [
       "'12/21/2012'"
      ]
     },
     "execution_count": 16,
     "metadata": {},
     "output_type": "execute_result"
    }
   ],
   "source": [
    "format(d, 'mdy')"
   ]
  },
  {
   "cell_type": "code",
   "execution_count": 12,
   "metadata": {},
   "outputs": [
    {
     "data": {
      "text/plain": [
       "'The date is 2012-12-21'"
      ]
     },
     "execution_count": 12,
     "metadata": {},
     "output_type": "execute_result"
    }
   ],
   "source": [
    "'The date is {:ymd}'.format(d)"
   ]
  },
  {
   "cell_type": "code",
   "execution_count": 13,
   "metadata": {},
   "outputs": [
    {
     "data": {
      "text/plain": [
       "'The date is 12/21/2012'"
      ]
     },
     "execution_count": 13,
     "metadata": {},
     "output_type": "execute_result"
    }
   ],
   "source": [
    "'The date is {:mdy}'.format(d)"
   ]
  },
  {
   "cell_type": "markdown",
   "metadata": {},
   "source": [
    "* 讨论\n",
    "\n",
    "`__format__()` 方法给Python的字符串格式化功能提供了一个钩子。\n",
    "\n",
    "这里需要着重强调的是格式化代码的解析工作完全由类自己决定。因此，格式化代码可以是任何值。\n",
    "\n",
    "例如，参考下面来自 datetime 模块中的代码："
   ]
  },
  {
   "cell_type": "code",
   "execution_count": 17,
   "metadata": {},
   "outputs": [
    {
     "data": {
      "text/plain": [
       "'2012-12-21'"
      ]
     },
     "execution_count": 17,
     "metadata": {},
     "output_type": "execute_result"
    }
   ],
   "source": [
    "from datetime import date\n",
    "\n",
    "d = date(2012, 12, 21)\n",
    "format(d)"
   ]
  },
  {
   "cell_type": "code",
   "execution_count": 18,
   "metadata": {},
   "outputs": [
    {
     "data": {
      "text/plain": [
       "'Friday, December21, 2012'"
      ]
     },
     "execution_count": 18,
     "metadata": {},
     "output_type": "execute_result"
    }
   ],
   "source": [
    "format(d, '%A, %B%d, %Y')"
   ]
  },
  {
   "cell_type": "code",
   "execution_count": 19,
   "metadata": {},
   "outputs": [
    {
     "data": {
      "text/plain": [
       "'The end is 21 Dec 2012. Goodbye'"
      ]
     },
     "execution_count": 19,
     "metadata": {},
     "output_type": "execute_result"
    }
   ],
   "source": [
    "'The end is {:%d %b %Y}. Goodbye'.format(d)"
   ]
  },
  {
   "cell_type": "markdown",
   "metadata": {},
   "source": [
    "对于内置类型的格式化有一些标准的约定。 可以参考 [string模块文档](https://docs.python.org/3/library/string.html) 说明。"
   ]
  },
  {
   "cell_type": "markdown",
   "metadata": {},
   "source": [
    "## 8.3 让对象支持上下文管理协议\n",
    "\n",
    "* 问题\n",
    "\n",
    "让对象支持上下文管理协议(with语句)。\n",
    "\n",
    "* 解决方案\n",
    "\n",
    "为了让一个对象兼容 `with` 语句，你需要实现 `__enter__()` 和 `__exit__()` 方法。"
   ]
  },
  {
   "cell_type": "code",
   "execution_count": 20,
   "metadata": {},
   "outputs": [],
   "source": [
    "# 假设创建一个能够创建网络连接的类：\n",
    "from socket import socket, AF_INET, SOCK_STREAM\n",
    "\n",
    "class LazyConnection:\n",
    "    def __init__(self, address, family=AF_INET, type=SOCK_STREAM):\n",
    "        self.address = address\n",
    "        self.family = family\n",
    "        self.type = type\n",
    "        self.sock = None\n",
    "\n",
    "    def __enter__(self):\n",
    "        if self.sock is not None:\n",
    "            raise RuntimeError('Already connected')\n",
    "        self.sock = socket(self.family, self.type)\n",
    "        self.sock.connect(self.address)\n",
    "        return self.sock\n",
    "\n",
    "    def __exit__(self, exc_ty, exc_val, tb):\n",
    "        self.sock.close()\n",
    "        self.sock = None"
   ]
  },
  {
   "cell_type": "markdown",
   "metadata": {},
   "source": [
    "这个类的核心功能就是表示一条网络连接，但是初始化的时候并不会做任何事情（比如它并没有建立一个连接）。连接的建立和关闭是使用 `with` 语句自动完成的。"
   ]
  },
  {
   "cell_type": "code",
   "execution_count": 21,
   "metadata": {},
   "outputs": [],
   "source": [
    "from functools import partial\n",
    "\n",
    "conn = LazyConnection(('www.python.org', 80))\n",
    "# connection closed\n",
    "with conn as s:\n",
    "    # conn.__enter__() executes: connection open\n",
    "    s.send(b'GET /index.html HTTP/1.0\\r\\n')\n",
    "    s.send(b'Host: www.python.org\\r\\n')\n",
    "    s.send(b'\\r\\n')\n",
    "    resp = b''.join(iter(partial(s.recv, 8192), b''))\n",
    "    # conn.__exit__() executes: connection closed"
   ]
  },
  {
   "cell_type": "markdown",
   "metadata": {},
   "source": [
    "* 讨论\n",
    "\n",
    "编写上下文管理器的主要原理是你的代码会放到 `with` 语句块中执行。\n",
    "1. 当出现 with 语句的时候，对象的 `__enter__()` 方法被触发，它返回的值(如果有的话)会被赋值给 as 声明的变量。\n",
    "2. 然后，with 语句块里面的代码开始执行。\n",
    "3. 最后，`__exit__()` 方法被触发进行清理工作。\n",
    "\n",
    "\n",
    "不管 with 代码块中发生什么，上面的控制流都会执行完，就算代码块中发生了异常也是一样的。\n",
    "\n",
    "事实上，`__exit__()` 方法的三个参数包含了异常类型、异常值和追溯信息(如果有的话)。\n",
    "\n",
    "`__exit__()` 方法能自己决定怎样利用这个异常信息，或者忽略它并返回一个None值。\n",
    "\n",
    "如果 `__exit__()` 返回 `True` ，那么异常会被清空，就好像什么都没发生一样， with 语句后面的程序继续在正常执行。\n",
    "\n",
    "还有一个细节问题就是 `LazyConnection` 类是否允许多个 `with` 语句来嵌套使用连接。很显然，上面的代码定义中一次只能允许一个 `socket` 连接，如果正在使用一个 `socket` 的时候又重复使用 `with` 语句，就会产生一个异常了。\n",
    "\n",
    "不过可以修改下上面的实现来解决这个问题："
   ]
  },
  {
   "cell_type": "code",
   "execution_count": 22,
   "metadata": {},
   "outputs": [],
   "source": [
    "from socket import socket, AF_INET, SOCK_STREAM\n",
    "\n",
    "class LazyConnection:\n",
    "    def __init__(self, address, family=AF_INET, type=SOCK_STREAM):\n",
    "        self.address = address\n",
    "        self.family = family\n",
    "        self.type = type\n",
    "        self.connections = []\n",
    "\n",
    "    def __enter__(self):\n",
    "        sock = socket(self.family, self.type)\n",
    "        sock.connect(self.address)\n",
    "        self.connections.append(sock)\n",
    "        return sock\n",
    "\n",
    "    def __exit__(self, exc_ty, exc_val, tb):\n",
    "        self.connections.pop().close()\n",
    "\n",
    "# Example use\n",
    "from functools import partial\n",
    "\n",
    "conn = LazyConnection(('www.python.org', 80))\n",
    "with conn as s1:\n",
    "    pass\n",
    "    with conn as s2:\n",
    "        pass\n",
    "        # s1 and s2 are independent sockets"
   ]
  },
  {
   "cell_type": "markdown",
   "metadata": {},
   "source": [
    "在第二个版本中，`LazyConnection` 类可以被看做是某个连接工厂。在内部，一个列表被用来构造一个栈。\n",
    "* 每次 `__enter__()` 方法执行的时候，它复制创建一个新的连接并将其加入到栈里面。\n",
    "* `__exit__()` 方法简单的从栈中弹出最后一个连接并关闭它。\n",
    "\n",
    "在需要管理一些资源比如文件、网络连接和锁的编程环境中，使用上下文管理器是很普遍的。这些资源的一个主要特征是它们必须**被手动的关闭或释放来确保程序的正确运行**。\n",
    "\n",
    "例如，如果你请求了一个锁，那么你必须确保之后释放了它，否则就可能产生死锁。\n",
    "\n",
    "通过实现 `__enter__()` 和 `__exit__()` 方法并使用 with 语句可以很容易的避免这些问题， 因为 __exit__() 方法可以让你无需担心这些了。\n",
    "\n",
    "在 `contextmanager` 模块中有一个标准的上下文管理方案模板，可参考9.22小节。 同时在12.6小节中还有一个对本节示例程序的线程安全的修改版。"
   ]
  },
  {
   "cell_type": "markdown",
   "metadata": {},
   "source": [
    "## 8.4 创建大量对象时节省内存方法\n",
    "* 问题\n",
    "\n",
    "程序要创建大量(可能上百万)的对象，导致占用很大的内存。\n",
    "\n",
    "* 解决方案\n",
    "对于主要是用来当成简单的数据结构的类而言，你可以通过给类添加 `__slots__` 属性来极大的减少实例所占的内存。"
   ]
  },
  {
   "cell_type": "code",
   "execution_count": 24,
   "metadata": {},
   "outputs": [],
   "source": [
    "class Date:\n",
    "    __slots = ['year', 'month', 'day']\n",
    "    def __init__(self, year, month, day):\n",
    "        self.year = year\n",
    "        self.month = month\n",
    "        self.day = day"
   ]
  },
  {
   "cell_type": "markdown",
   "metadata": {},
   "source": [
    "当你定义 `__slots__` 后，Python就会为实例使用一种更加紧凑的内部表示。\n",
    "\n",
    "实例通过一个很小的固定大小的数组来构建，而不是为每个实例定义一个字典，这跟元组或列表很类似。\n",
    "\n",
    "在 `__slots__` 中列出的属性名在内部被映射到这个数组的特定索引上。\n",
    "\n",
    "使用 `slots` 一个不好的地方就是**不能再给实例添加新的属性**了，只能使用在 `__slots__` 中定义的那些属性名。"
   ]
  },
  {
   "cell_type": "markdown",
   "metadata": {},
   "source": [
    "* 讨论\n",
    "\n",
    "使用 `slots` 后节省的内存会跟存储属性的数量和类型有关。不过，一般来讲，使用到的内存总量和将数据存储在一个元组中差不多。\n",
    "\n",
    "为了给你一个直观认识，假设你不使用slots直接存储一个Date实例， 在64位的Python上面要占用428字节，而如果使用了slots，内存占用下降到156字节。\n",
    "如果程序中需要同时创建大量的日期实例，那么这个就能极大的减小内存使用量了。\n",
    "\n",
    "尽管slots看上去是一个很有用的特性，很多时候你还是得减少对它的使用冲动。\n",
    "Python的很多特性都依赖于普通的基于字典的实现。\n",
    "\n",
    "另外，定义了slots后的类不再支持一些普通类特性了，比如多继承。\n",
    "大多数情况下，你应该只在那些经常被使用到的用作数据结构的类上定义slots (比如在程序中需要创建某个类的几百万个实例对象)。\n",
    "\n",
    "关于 `__slots__` 的一个常见误区是它可以作为一个封装工具来防止用户给实例增加新的属性。\n",
    "尽管使用slots可以达到这样的目的，但是这个并不是它的初衷。 __slots__ 更多的是用来作为一个内存优化工具。"
   ]
  },
  {
   "cell_type": "markdown",
   "metadata": {},
   "source": []
  }
 ],
 "metadata": {
  "interpreter": {
   "hash": "40e50092aedb26c19c9d11da6d856e5404e21c132dd1395f3f9f6e1f47e12d30"
  },
  "kernelspec": {
   "display_name": "Python 3.9.0 64-bit ('workspace': conda)",
   "language": "python",
   "name": "python3"
  },
  "language_info": {
   "codemirror_mode": {
    "name": "ipython",
    "version": 3
   },
   "file_extension": ".py",
   "mimetype": "text/x-python",
   "name": "python",
   "nbconvert_exporter": "python",
   "pygments_lexer": "ipython3",
   "version": "3.9.0"
  },
  "orig_nbformat": 4
 },
 "nbformat": 4,
 "nbformat_minor": 2
}
